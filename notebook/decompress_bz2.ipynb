{
 "cells": [
  {
   "cell_type": "code",
   "execution_count": null,
   "id": "f6ec301d",
   "metadata": {},
   "outputs": [],
   "source": [
    "import solopy._utils as _utils\n",
    "from pathlib import Path\n",
    "import logging"
   ]
  },
  {
   "cell_type": "code",
   "execution_count": null,
   "id": "bea58540",
   "metadata": {},
   "outputs": [],
   "source": [
    "# Set logger\n",
    "logging.basicConfig(level=logging.INFO, format=\"%(asctime)s [%(levelname)s] %(message)s\")\n",
    "logger = logging.getLogger(__name__)"
   ]
  },
  {
   "cell_type": "code",
   "execution_count": null,
   "id": "34ac7037",
   "metadata": {},
   "outputs": [],
   "source": [
    "# Data directory\n",
    "DATADIR = Path(\"../solo-data\")\n",
    "LV0DIR = DATADIR / \"Lv0\""
   ]
  },
  {
   "cell_type": "code",
   "execution_count": 4,
   "id": "eed123cc",
   "metadata": {},
   "outputs": [
    {
     "name": "stderr",
     "output_type": "stream",
     "text": [
      "2025-10-27 20:53:47,069 [INFO] Scanning subdirectories in: ../solo-data/Lv0\n",
      "2025-10-27 20:53:47,070 [INFO] --- Processing directory: 2025_0722 ---\n",
      "2025-10-27 20:53:47,072 [INFO] Decompressing 213 files from ../solo-data/Lv0/2025_0722 to ../solo-data/Lv0/2025_0722...\n",
      "Decompressing: 100%|██████████| 213/213 [02:05<00:00,  1.69it/s]\n",
      "2025-10-27 20:55:52,971 [INFO] --- Processing directory: 2025_0725 ---\n",
      "2025-10-27 20:55:52,976 [INFO] Decompressing 309 files from ../solo-data/Lv0/2025_0725 to ../solo-data/Lv0/2025_0725...\n",
      "Decompressing: 100%|██████████| 309/309 [03:03<00:00,  1.69it/s]\n",
      "2025-10-27 20:58:56,107 [INFO] --- Processing directory: 2025_0724 ---\n",
      "2025-10-27 20:58:56,112 [INFO] Decompressing 304 files from ../solo-data/Lv0/2025_0724 to ../solo-data/Lv0/2025_0724...\n",
      "Decompressing: 100%|██████████| 304/304 [02:54<00:00,  1.74it/s]\n",
      "2025-10-27 21:01:50,568 [INFO] --- Processing directory: 2025_0723 ---\n",
      "2025-10-27 21:01:50,574 [INFO] Decompressing 293 files from ../solo-data/Lv0/2025_0723 to ../solo-data/Lv0/2025_0723...\n",
      "Decompressing: 100%|██████████| 293/293 [02:52<00:00,  1.70it/s]\n",
      "2025-10-27 21:04:42,588 [INFO] --- Processing directory: 2025_0804 ---\n",
      "2025-10-27 21:04:42,589 [INFO] Decompressing 103 files from ../solo-data/Lv0/2025_0804 to ../solo-data/Lv0/2025_0804...\n",
      "Decompressing: 100%|██████████| 103/103 [01:02<00:00,  1.64it/s]\n",
      "2025-10-27 21:05:45,350 [INFO] --- Processing directory: 2025_0803 ---\n",
      "2025-10-27 21:05:45,351 [INFO] Decompressing 82 files from ../solo-data/Lv0/2025_0803 to ../solo-data/Lv0/2025_0803...\n",
      "Decompressing: 100%|██████████| 82/82 [00:47<00:00,  1.72it/s]\n",
      "2025-10-27 21:06:32,947 [INFO] --- Processing directory: 2025_0827 ---\n",
      "2025-10-27 21:06:32,948 [INFO] Decompressing 99 files from ../solo-data/Lv0/2025_0827 to ../solo-data/Lv0/2025_0827...\n",
      "Decompressing: 100%|██████████| 99/99 [00:58<00:00,  1.70it/s]\n",
      "2025-10-27 21:07:31,268 [INFO] --- Processing directory: 2025_0811 ---\n",
      "2025-10-27 21:07:31,268 [INFO] Decompressing 49 files from ../solo-data/Lv0/2025_0811 to ../solo-data/Lv0/2025_0811...\n",
      "Decompressing: 100%|██████████| 49/49 [00:29<00:00,  1.67it/s]\n",
      "2025-10-27 21:08:00,698 [INFO] --- Processing directory: 2025_0826 ---\n",
      "2025-10-27 21:08:00,699 [INFO] Decompressing 79 files from ../solo-data/Lv0/2025_0826 to ../solo-data/Lv0/2025_0826...\n",
      "Decompressing: 100%|██████████| 79/79 [00:45<00:00,  1.73it/s]\n",
      "2025-10-27 21:08:46,431 [INFO] --- Processing directory: 2025_0730 ---\n",
      "2025-10-27 21:08:46,432 [INFO] Decompressing 59 files from ../solo-data/Lv0/2025_0730 to ../solo-data/Lv0/2025_0730...\n",
      "Decompressing: 100%|██████████| 59/59 [00:36<00:00,  1.60it/s]\n",
      "2025-10-27 21:09:23,329 [INFO] --- Processing directory: 2025_0731 ---\n",
      "2025-10-27 21:09:23,332 [INFO] Decompressing 135 files from ../solo-data/Lv0/2025_0731 to ../solo-data/Lv0/2025_0731...\n",
      "Decompressing: 100%|██████████| 135/135 [01:18<00:00,  1.71it/s]\n",
      "2025-10-27 21:10:42,084 [INFO] --- Processing directory: 2025_0726 ---\n",
      "2025-10-27 21:10:42,088 [INFO] Decompressing 299 files from ../solo-data/Lv0/2025_0726 to ../solo-data/Lv0/2025_0726...\n",
      "Decompressing: 100%|██████████| 299/299 [02:50<00:00,  1.75it/s]\n",
      "2025-10-27 21:13:32,836 [INFO] --- Processing directory: 2025_0719 ---\n",
      "2025-10-27 21:13:32,841 [INFO] Decompressing 549 files from ../solo-data/Lv0/2025_0719 to ../solo-data/Lv0/2025_0719...\n",
      "Decompressing: 100%|██████████| 549/549 [05:06<00:00,  1.79it/s]\n",
      "2025-10-27 21:18:39,439 [INFO] --- Processing directory: 2025_0717 ---\n",
      "2025-10-27 21:18:39,440 [WARNING] No .fits.bz2 files found in ../solo-data/Lv0/2025_0717\n",
      "2025-10-27 21:18:39,440 [INFO] --- Processing directory: 2025_0728 ---\n",
      "2025-10-27 21:18:39,443 [INFO] Decompressing 158 files from ../solo-data/Lv0/2025_0728 to ../solo-data/Lv0/2025_0728...\n",
      "Decompressing: 100%|██████████| 158/158 [01:32<00:00,  1.71it/s]\n",
      "2025-10-27 21:20:11,795 [INFO] --- Processing directory: 2025_0729 ---\n",
      "2025-10-27 21:20:11,799 [INFO] Decompressing 115 files from ../solo-data/Lv0/2025_0729 to ../solo-data/Lv0/2025_0729...\n",
      "Decompressing: 100%|██████████| 115/115 [01:18<00:00,  1.46it/s]\n",
      "2025-10-27 21:21:30,602 [INFO] --- Processing directory: 2025_0720 ---\n",
      "2025-10-27 21:21:30,602 [INFO] Decompressing 86 files from ../solo-data/Lv0/2025_0720 to ../solo-data/Lv0/2025_0720...\n",
      "Decompressing: 100%|██████████| 86/86 [00:53<00:00,  1.60it/s]\n",
      "2025-10-27 21:22:24,396 [INFO] --- Processing directory: 2025_0718 ---\n",
      "2025-10-27 21:22:24,400 [INFO] Decompressing 256 files from ../solo-data/Lv0/2025_0718 to ../solo-data/Lv0/2025_0718...\n",
      "Decompressing: 100%|██████████| 256/256 [02:30<00:00,  1.70it/s]\n",
      "2025-10-27 21:24:55,180 [INFO] --- Processing directory: 2025_0807 ---\n",
      "2025-10-27 21:24:55,184 [INFO] Decompressing 150 files from ../solo-data/Lv0/2025_0807 to ../solo-data/Lv0/2025_0807...\n",
      "Decompressing: 100%|██████████| 150/150 [01:32<00:00,  1.63it/s]\n",
      "2025-10-27 21:26:27,252 [INFO] --- Processing directory: 2025_0830 ---\n",
      "2025-10-27 21:26:27,252 [INFO] Decompressing 101 files from ../solo-data/Lv0/2025_0830 to ../solo-data/Lv0/2025_0830...\n",
      "Decompressing: 100%|██████████| 101/101 [00:58<00:00,  1.71it/s]\n",
      "2025-10-27 21:27:26,243 [INFO] --- Processing directory: 2025_0806 ---\n",
      "2025-10-27 21:27:26,246 [INFO] Decompressing 78 files from ../solo-data/Lv0/2025_0806 to ../solo-data/Lv0/2025_0806...\n",
      "Decompressing: 100%|██████████| 78/78 [00:46<00:00,  1.66it/s]\n",
      "2025-10-27 21:28:13,130 [INFO] --- Processing directory: 2025_0801 ---\n",
      "2025-10-27 21:28:13,134 [INFO] Decompressing 143 files from ../solo-data/Lv0/2025_0801 to ../solo-data/Lv0/2025_0801...\n",
      "Decompressing: 100%|██████████| 143/143 [01:25<00:00,  1.68it/s]\n",
      "2025-10-27 21:29:38,203 [INFO] --- Processing directory: 2025_0823 ---\n",
      "2025-10-27 21:29:38,204 [INFO] Decompressing 70 files from ../solo-data/Lv0/2025_0823 to ../solo-data/Lv0/2025_0823...\n",
      "Decompressing: 100%|██████████| 70/70 [00:40<00:00,  1.74it/s]\n",
      "2025-10-27 21:30:18,320 [INFO] --- Processing directory: 2025_0812 ---\n",
      "2025-10-27 21:30:18,321 [INFO] Decompressing 86 files from ../solo-data/Lv0/2025_0812 to ../solo-data/Lv0/2025_0812...\n",
      "Decompressing: 100%|██████████| 86/86 [00:53<00:00,  1.62it/s]\n",
      "2025-10-27 21:31:11,428 [INFO] --- Processing directory: 2025_0825 ---\n",
      "2025-10-27 21:31:11,433 [INFO] Decompressing 99 files from ../solo-data/Lv0/2025_0825 to ../solo-data/Lv0/2025_0825...\n",
      "Decompressing: 100%|██████████| 99/99 [00:58<00:00,  1.70it/s]\n",
      "2025-10-27 21:32:09,748 [INFO] --- Finished processing all subdirectories ---\n"
     ]
    }
   ],
   "source": [
    "# Decompress .fits.bz2 --> .fits\n",
    "if not LV0DIR.is_dir():\n",
    "    logger.error(f\"Directory not found: {LV0DIR}\")\n",
    "else:\n",
    "    logger.info(f\"Scanning subdirectories in: {LV0DIR}\")\n",
    "    \n",
    "    # Repeat for all sub-directory\n",
    "    for item in LV0DIR.iterdir():\n",
    "        \n",
    "        if item.is_dir():\n",
    "            subdir_path = item\n",
    "            logger.info(f\"--- Processing directory: {subdir_path.name} ---\")\n",
    "            \n",
    "            _utils.batch_decompress(subdir_path, subdir_path, delete_source=True)\n",
    "            \n",
    "        else:\n",
    "            # Skip if not a directory\n",
    "            logger.debug(f\"Skipping non-directory item: {item.name}\")\n",
    "\n",
    "    logger.info(\"--- Finished processing all subdirectories ---\")"
   ]
  }
 ],
 "metadata": {
  "kernelspec": {
   "display_name": "solopy",
   "language": "python",
   "name": "python3"
  },
  "language_info": {
   "codemirror_mode": {
    "name": "ipython",
    "version": 3
   },
   "file_extension": ".py",
   "mimetype": "text/x-python",
   "name": "python",
   "nbconvert_exporter": "python",
   "pygments_lexer": "ipython3",
   "version": "3.11.11"
  }
 },
 "nbformat": 4,
 "nbformat_minor": 5
}
