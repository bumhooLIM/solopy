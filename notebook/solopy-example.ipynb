{
 "cells": [
  {
   "cell_type": "code",
   "execution_count": 6,
   "id": "7528eb91",
   "metadata": {},
   "outputs": [],
   "source": [
    "from pathlib import Path\n",
    "import solopy"
   ]
  },
  {
   "cell_type": "code",
   "execution_count": null,
   "id": "a31c71e8",
   "metadata": {},
   "outputs": [
    {
     "ename": "AttributeError",
     "evalue": "module 'solopy' has no attribute '__version__'",
     "output_type": "error",
     "traceback": [
      "\u001b[31m---------------------------------------------------------------------------\u001b[39m",
      "\u001b[31mAttributeError\u001b[39m                            Traceback (most recent call last)",
      "\u001b[36mCell\u001b[39m\u001b[36m \u001b[39m\u001b[32mIn[5]\u001b[39m\u001b[32m, line 1\u001b[39m\n\u001b[32m----> \u001b[39m\u001b[32m1\u001b[39m \u001b[43msolopy\u001b[49m\u001b[43m.\u001b[49m\u001b[43m__version__\u001b[49m\n",
      "\u001b[31mAttributeError\u001b[39m: module 'solopy' has no attribute '__version__'"
     ]
    }
   ],
   "source": [
    "# log file directory\n",
    "LOGDIR = Path(\"./log\") \n",
    "LOGDIR.mkdir(parents=True, exist_ok=True)\n",
    "fpath_log_lv0 = LOGDIR/'Lv0-example.log' # log file path for Lv0\n",
    "\n",
    "# Lv0 Data directory\n",
    "Lv0DIR = Path(\"../solo-data/Lv0\") \n",
    "\n",
    "# Initialize Lv0 class\n",
    "lv0 = solopy.Lv0(log_file=fpath_log_lv0)"
   ]
  },
  {
   "cell_type": "code",
   "execution_count": null,
   "id": "83586097",
   "metadata": {},
   "outputs": [
    {
     "ename": "AttributeError",
     "evalue": "module 'solopy' has no attribute 'Lv0'",
     "output_type": "error",
     "traceback": [
      "\u001b[31m---------------------------------------------------------------------------\u001b[39m",
      "\u001b[31mAttributeError\u001b[39m                            Traceback (most recent call last)",
      "\u001b[36mCell\u001b[39m\u001b[36m \u001b[39m\u001b[32mIn[2]\u001b[39m\u001b[32m, line 1\u001b[39m\n\u001b[32m----> \u001b[39m\u001b[32m1\u001b[39m \u001b[43msolopy\u001b[49m\u001b[43m.\u001b[49m\u001b[43mLv0\u001b[49m.Lv0().update_header(\u001b[33m'\u001b[39m\u001b[33mtest.fits\u001b[39m\u001b[33m'\u001b[39m)\n",
      "\u001b[31mAttributeError\u001b[39m: module 'solopy' has no attribute 'Lv0'"
     ]
    }
   ],
   "source": [
    "# process_lv0.py\n",
    "from rasa_lcpy_lv0 import RasaLcpyLV0\n",
    "\n",
    "def main():\n",
    "    # initialize—with optional logfile\n",
    "    lv0 = RasaLcpyLV0(log_file=\"rasa_pipeline.log\")\n",
    "\n",
    "    # update one file\n",
    "    lv0.update_header(\"/data/raw/night1/image001.fits\")\n",
    "\n",
    "    # or a whole directory\n",
    "    import glob\n",
    "    for f in glob.glob(\"/data/raw/**/*.fits\", recursive=True):\n",
    "        lv0.update_header(f)\n",
    "\n",
    "if __name__ == \"__main__\":\n",
    "    main()"
   ]
  }
 ],
 "metadata": {
  "kernelspec": {
   "display_name": "solopy",
   "language": "python",
   "name": "python3"
  },
  "language_info": {
   "codemirror_mode": {
    "name": "ipython",
    "version": 3
   },
   "file_extension": ".py",
   "mimetype": "text/x-python",
   "name": "python",
   "nbconvert_exporter": "python",
   "pygments_lexer": "ipython3",
   "version": "3.11.11"
  }
 },
 "nbformat": 4,
 "nbformat_minor": 5
}
