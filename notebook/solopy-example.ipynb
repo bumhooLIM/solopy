{
 "cells": [
  {
   "cell_type": "code",
   "execution_count": 1,
   "id": "7528eb91",
   "metadata": {},
   "outputs": [],
   "source": [
    "import solopy\n",
    "from solopy import _utils\n",
    "import ccdproc\n",
    "from astropy.io import fits\n",
    "from astropy.time import Time\n",
    "from pathlib import Path\n",
    "import logging\n",
    "import bz2\n",
    "import shutil # 임시 디렉터리 삭제용"
   ]
  },
  {
   "cell_type": "code",
   "execution_count": 2,
   "id": "7ee4081e",
   "metadata": {},
   "outputs": [],
   "source": [
    "subdir = \"2025_0717\" # observation date"
   ]
  },
  {
   "cell_type": "code",
   "execution_count": 3,
   "id": "6734fcde",
   "metadata": {},
   "outputs": [],
   "source": [
    "# Data directory\n",
    "DATADIR = Path(\"../solo-data\")\n",
    "\n",
    "# Lv0 data directory\n",
    "LV0DIR = DATADIR/\"Lv0\"\n",
    "LV0_subdir = LV0DIR / subdir\n",
    "\n",
    "# Lv1 data directory\n",
    "LV1DIR = DATADIR/\"Lv1\"\n",
    "LV1_subdir = LV1DIR / subdir\n",
    "LV1_subdir.mkdir(parents=True, exist_ok=True)\n",
    "\n",
    "# Master calibration files directory\n",
    "MASTERDIR = DATADIR / \"calibration_files\"\n",
    "MASTERDIR.mkdir(parents=True, exist_ok=True)\n",
    "\n",
    "# Log directory\n",
    "LOGDIR = DATADIR/\"log\"\n",
    "LOGDIR.mkdir(parents=True, exist_ok=True)\n",
    "\n",
    "fpath_log_lv0 = LOGDIR/f'lv0_{subdir}.log' # log file path for Lv0\n",
    "if fpath_log_lv0.exists():\n",
    "    fpath_log_lv0.unlink() # remove existing log file\n",
    "    \n",
    "fpath_log_lv1 = LOGDIR/f'lv1_{subdir}.log' # log file path for Lv1\n",
    "if fpath_log_lv1.exists():\n",
    "    fpath_log_lv1.unlink() # remove existing log file\n",
    "\n",
    "fpath_log_comb = LOGDIR/f'combmaster_{subdir}.log' # log file path for CombMaster\n",
    "if fpath_log_comb.exists():\n",
    "    fpath_log_comb.unlink() # remove existing log file"
   ]
  },
  {
   "cell_type": "code",
   "execution_count": 4,
   "id": "12b3e447",
   "metadata": {},
   "outputs": [],
   "source": [
    "# Logger\n",
    "logging.basicConfig(level=logging.INFO,\n",
    "                    format=\"%(asctime)s [%(levelname)s] %(message)s\",\n",
    "                    handlers=[\n",
    "                        logging.StreamHandler(),\n",
    "                        logging.FileHandler(LOGDIR/\"solo-example.log\")\n",
    "                    ])\n",
    "logger = logging.getLogger(__name__)"
   ]
  },
  {
   "cell_type": "code",
   "execution_count": 5,
   "id": "80d37c9a",
   "metadata": {},
   "outputs": [
    {
     "name": "stderr",
     "output_type": "stream",
     "text": [
      "2025-10-27 20:23:33,802 [INFO] --- Step 1: Batch Decompress ---\n",
      "2025-10-27 20:23:33,803 [INFO] Decompressing 147 files from ../solo-data/Lv0/2025_0717 to ../solo-data/Lv0/2025_0717...\n",
      "Decompressing: 100%|██████████| 147/147 [01:22<00:00,  1.78it/s]\n"
     ]
    }
   ],
   "source": [
    "# Step 1: Batch Decompress\n",
    "logger.info(\"--- Step 1: Batch Decompress ---\")\n",
    "_utils.batch_decompress(LV0_subdir, LV0_subdir, delete_source=True)"
   ]
  },
  {
   "cell_type": "code",
   "execution_count": 6,
   "id": "a5762c27",
   "metadata": {},
   "outputs": [
    {
     "name": "stderr",
     "output_type": "stream",
     "text": [
      "2025-10-27 20:25:46,881 [INFO] --- Step 2: Lv0 Header Update ---\n",
      "2025-10-27 20:25:46,953 [INFO] Updated LV0 header: dk03_007.fits\n",
      "2025-10-27 20:25:46,994 [INFO] Updated LV0 header: dk02_007.fits\n",
      "2025-10-27 20:25:47,037 [INFO] Updated LV0 header: dark008_002.fits\n",
      "2025-10-27 20:25:47,082 [INFO] Updated LV0 header: bias_006.fits\n",
      "2025-10-27 20:25:47,127 [INFO] Updated LV0 header: ELENORA_031_20250717061504.fits\n",
      "2025-10-27 20:25:47,170 [INFO] Updated LV0 header: ELENORA_032_20250717061637.fits\n",
      "2025-10-27 20:25:47,212 [INFO] Updated LV0 header: CARLOVA_001_20250717090310.fits\n",
      "2025-10-27 20:25:47,254 [INFO] Updated LV0 header: dark004_009.fits\n",
      "2025-10-27 20:25:47,295 [INFO] Updated LV0 header: dark090_002.fits\n",
      "2025-10-27 20:25:47,336 [INFO] Updated LV0 header: dk01_002.fits\n",
      "2025-10-27 20:25:47,377 [INFO] Updated LV0 header: CARLOVA_012_20250717092002.fits\n",
      "2025-10-27 20:25:47,419 [INFO] Updated LV0 header: ELENORA_014_20250717054859.fits\n",
      "2025-10-27 20:25:47,462 [INFO] Updated LV0 header: CARLOVA_019_20250717093048.fits\n",
      "2025-10-27 20:25:47,503 [INFO] Updated LV0 header: CARLOVA_007_20250717091222.fits\n",
      "2025-10-27 20:25:47,545 [INFO] Updated LV0 header: dark004_005.fits\n",
      "2025-10-27 20:25:47,586 [INFO] Updated LV0 header: CARLOVA_014_20250717092307.fits\n",
      "2025-10-27 20:25:47,628 [INFO] Updated LV0 header: CARLOVA_010_20250717091658.fits\n",
      "2025-10-27 20:25:47,670 [INFO] Updated LV0 header: dark004_004.fits\n",
      "2025-10-27 20:25:47,711 [INFO] Updated LV0 header: CARLOVA_009_20250717091526.fits\n",
      "2025-10-27 20:25:47,754 [INFO] Updated LV0 header: ELENORA_035_20250717062113.fits\n",
      "2025-10-27 20:25:47,795 [INFO] Updated LV0 header: ELENORA_013_20250717054727.fits\n",
      "2025-10-27 20:25:47,836 [INFO] Updated LV0 header: dk01_003.fits\n",
      "2025-10-27 20:25:47,878 [INFO] Updated LV0 header: dark090_003.fits\n",
      "2025-10-27 20:25:47,919 [INFO] Updated LV0 header: dark007_001.fits\n",
      "2025-10-27 20:25:47,960 [INFO] Updated LV0 header: dark006_001.fits\n",
      "2025-10-27 20:25:48,018 [INFO] Updated LV0 header: dark004_008.fits\n",
      "2025-10-27 20:25:48,059 [INFO] Updated LV0 header: dk05_001.fits\n",
      "2025-10-27 20:25:48,103 [INFO] Updated LV0 header: ELENORA_011_20250717054422.fits\n",
      "2025-10-27 20:25:48,148 [INFO] Updated LV0 header: bias_007.fits\n",
      "2025-10-27 20:25:48,193 [INFO] Updated LV0 header: dark008_003.fits\n",
      "2025-10-27 20:25:48,239 [INFO] Updated LV0 header: dk03_006.fits\n",
      "2025-10-27 20:25:48,284 [INFO] Updated LV0 header: dk02_006.fits\n",
      "2025-10-27 20:25:48,327 [INFO] Updated LV0 header: dark090_004.fits\n",
      "2025-10-27 20:25:48,369 [INFO] Updated LV0 header: dk01_004.fits\n",
      "2025-10-27 20:25:48,413 [INFO] Updated LV0 header: ELENORA_019_20250717055639.fits\n",
      "2025-10-27 20:25:48,454 [INFO] Updated LV0 header: dark008_008.fits\n",
      "2025-10-27 20:25:48,500 [INFO] Updated LV0 header: ELENORA_020_20250717055811.fits\n",
      "2025-10-27 20:25:48,541 [INFO] Updated LV0 header: ELENORA_030_20250717061332.fits\n",
      "2025-10-27 20:25:48,585 [INFO] Updated LV0 header: ELENORA_018_20250717055506.fits\n",
      "2025-10-27 20:25:48,627 [INFO] Updated LV0 header: dark004_003.fits\n",
      "2025-10-27 20:25:48,671 [INFO] Updated LV0 header: dk01_008.fits\n",
      "2025-10-27 20:25:48,716 [INFO] Updated LV0 header: dk02_001.fits\n",
      "2025-10-27 20:25:48,765 [INFO] Updated LV0 header: dk03_001.fits\n",
      "2025-10-27 20:25:48,812 [INFO] Updated LV0 header: dark090_008.fits\n",
      "2025-10-27 20:25:48,854 [INFO] Updated LV0 header: dark008_004.fits\n",
      "2025-10-27 20:25:48,897 [INFO] Updated LV0 header: ELENORA_029_20250717061200.fits\n",
      "2025-10-27 20:25:48,942 [INFO] Updated LV0 header: ELENORA_036_20250717062246.fits\n",
      "2025-10-27 20:25:48,994 [INFO] Updated LV0 header: ELENORA_024_20250717060420.fits\n",
      "2025-10-27 20:25:49,043 [INFO] Updated LV0 header: dk05_006.fits\n",
      "2025-10-27 20:25:49,091 [INFO] Updated LV0 header: dark006_006.fits\n",
      "2025-10-27 20:25:49,137 [INFO] Updated LV0 header: dark007_006.fits\n",
      "2025-10-27 20:25:49,187 [INFO] Updated LV0 header: dark006_007.fits\n",
      "2025-10-27 20:25:49,228 [INFO] Updated LV0 header: dark007_007.fits\n",
      "2025-10-27 20:25:49,270 [INFO] Updated LV0 header: CARLOVA_018_20250717092916.fits\n",
      "2025-10-27 20:25:49,312 [INFO] Updated LV0 header: dk05_007.fits\n",
      "2025-10-27 20:25:49,354 [INFO] Updated LV0 header: ELENORA_027_20250717060856.fits\n",
      "2025-10-27 20:25:49,399 [INFO] Updated LV0 header: dark008_005.fits\n",
      "2025-10-27 20:25:49,443 [INFO] Updated LV0 header: dark090_009.fits\n",
      "2025-10-27 20:25:49,487 [INFO] Updated LV0 header: dk01_009.fits\n",
      "2025-10-27 20:25:49,534 [INFO] Updated LV0 header: ELENORA_039_20250717062722.fits\n",
      "2025-10-27 20:25:49,580 [INFO] Updated LV0 header: dark004_002.fits\n",
      "2025-10-27 20:25:49,625 [INFO] Updated LV0 header: CARLOVA_002_20250717090442.fits\n",
      "2025-10-27 20:25:49,671 [INFO] Updated LV0 header: ELENORA_016_20250717055202.fits\n",
      "2025-10-27 20:25:49,717 [INFO] Updated LV0 header: CARLOVA_003_20250717090614.fits\n",
      "2025-10-27 20:25:49,761 [INFO] Updated LV0 header: ELENORA_025_20250717060552.fits\n",
      "2025-10-27 20:25:49,807 [INFO] Updated LV0 header: ELENORA_026_20250717060724.fits\n",
      "2025-10-27 20:25:49,851 [INFO] Updated LV0 header: ELENORA_021_20250717055943.fits\n",
      "2025-10-27 20:25:49,894 [INFO] Updated LV0 header: dark008_009.fits\n",
      "2025-10-27 20:25:49,938 [INFO] Updated LV0 header: ELENORA_022_20250717060115.fits\n",
      "2025-10-27 20:25:49,981 [INFO] Updated LV0 header: CARLOVA_004_20250717090746.fits\n",
      "2025-10-27 20:25:50,028 [INFO] Updated LV0 header: dk01_005.fits\n",
      "2025-10-27 20:25:50,073 [INFO] Updated LV0 header: CARLOVA_015_20250717092439.fits\n",
      "2025-10-27 20:25:50,119 [INFO] Updated LV0 header: ELENORA_023_20250717060247.fits\n",
      "2025-10-27 20:25:50,165 [INFO] Updated LV0 header: dark090_005.fits\n",
      "2025-10-27 20:25:50,209 [INFO] Updated LV0 header: dark004_001.fits\n",
      "2025-10-27 20:25:50,252 [INFO] Updated LV0 header: dark006_008.fits\n",
      "2025-10-27 20:25:50,296 [INFO] Updated LV0 header: dark007_008.fits\n",
      "2025-10-27 20:25:50,338 [INFO] Updated LV0 header: dk05_008.fits\n",
      "2025-10-27 20:25:50,384 [INFO] Updated LV0 header: dk01_006.fits\n",
      "2025-10-27 20:25:50,426 [INFO] Updated LV0 header: dark090_006.fits\n",
      "2025-10-27 20:25:50,471 [INFO] Updated LV0 header: dark007_004.fits\n",
      "2025-10-27 20:25:50,513 [INFO] Updated LV0 header: dark006_004.fits\n",
      "2025-10-27 20:25:50,554 [INFO] Updated LV0 header: dk05_004.fits\n",
      "2025-10-27 20:25:50,595 [INFO] Updated LV0 header: CARLOVA_006_20250717091050.fits\n",
      "2025-10-27 20:25:50,637 [INFO] Updated LV0 header: bias_002.fits\n",
      "2025-10-27 20:25:50,678 [INFO] Updated LV0 header: dark008_006.fits\n",
      "2025-10-27 20:25:50,720 [INFO] Updated LV0 header: CARLOVA_017_20250717092744.fits\n",
      "2025-10-27 20:25:50,760 [INFO] Updated LV0 header: CARLOVA_013_20250717092134.fits\n",
      "2025-10-27 20:25:50,837 [INFO] Updated LV0 header: dk03_003.fits\n",
      "2025-10-27 20:25:50,881 [INFO] Updated LV0 header: dk02_003.fits\n",
      "2025-10-27 20:25:50,964 [INFO] Updated LV0 header: dk03_002.fits\n",
      "2025-10-27 20:25:51,007 [INFO] Updated LV0 header: dk02_002.fits\n",
      "2025-10-27 20:25:51,051 [INFO] Updated LV0 header: ELENORA_033_20250717061809.fits\n",
      "2025-10-27 20:25:51,095 [INFO] Updated LV0 header: dark008_007.fits\n",
      "2025-10-27 20:25:51,137 [INFO] Updated LV0 header: bias_003.fits\n",
      "2025-10-27 20:25:51,193 [INFO] Updated LV0 header: dk05_005.fits\n",
      "2025-10-27 20:25:51,234 [INFO] Updated LV0 header: ELENORA_012_20250717054555.fits\n",
      "2025-10-27 20:25:51,277 [INFO] Updated LV0 header: dark007_005.fits\n",
      "2025-10-27 20:25:51,318 [INFO] Updated LV0 header: dark006_005.fits\n",
      "2025-10-27 20:25:51,371 [INFO] Updated LV0 header: dark090_007.fits\n",
      "2025-10-27 20:25:51,412 [INFO] Updated LV0 header: dk01_007.fits\n",
      "2025-10-27 20:25:51,454 [INFO] Updated LV0 header: CARLOVA_011_20250717091830.fits\n",
      "2025-10-27 20:25:51,496 [INFO] Updated LV0 header: ELENORA_008_20250717053947.fits\n",
      "2025-10-27 20:25:51,540 [INFO] Updated LV0 header: ELENORA_037_20250717062418.fits\n",
      "2025-10-27 20:25:51,586 [INFO] Updated LV0 header: dk05_009.fits\n",
      "2025-10-27 20:25:51,629 [INFO] Updated LV0 header: ELENORA_034_20250717061941.fits\n",
      "2025-10-27 20:25:51,672 [INFO] Updated LV0 header: dark006_009.fits\n",
      "2025-10-27 20:25:51,716 [INFO] Updated LV0 header: dark007_009.fits\n",
      "2025-10-27 20:25:51,760 [INFO] Updated LV0 header: ELENORA_001_20250717052901.fits\n",
      "2025-10-27 20:25:51,803 [INFO] Updated LV0 header: dark006_002.fits\n",
      "2025-10-27 20:25:51,845 [INFO] Updated LV0 header: dark007_002.fits\n",
      "2025-10-27 20:25:51,888 [INFO] Updated LV0 header: ELENORA_003_20250717053205.fits\n",
      "2025-10-27 20:25:51,930 [INFO] Updated LV0 header: dk05_002.fits\n",
      "2025-10-27 20:25:51,970 [INFO] Updated LV0 header: ELENORA_017_20250717055335.fits\n",
      "2025-10-27 20:25:52,013 [INFO] Updated LV0 header: CARLOVA_016_20250717092611.fits\n",
      "2025-10-27 20:25:52,055 [INFO] Updated LV0 header: bias_004.fits\n",
      "2025-10-27 20:25:52,097 [INFO] Updated LV0 header: CARLOVA_008_20250717091354.fits\n",
      "2025-10-27 20:25:52,139 [INFO] Updated LV0 header: ELENORA_005_20250717053510.fits\n",
      "2025-10-27 20:25:52,190 [INFO] Updated LV0 header: dk02_005.fits\n",
      "2025-10-27 20:25:52,231 [INFO] Updated LV0 header: dk03_005.fits\n",
      "2025-10-27 20:25:52,273 [INFO] Updated LV0 header: dark004_007.fits\n",
      "2025-10-27 20:25:52,314 [INFO] Updated LV0 header: bias_008.fits\n",
      "2025-10-27 20:25:52,357 [INFO] Updated LV0 header: ELENORA_007_20250717053814.fits\n",
      "2025-10-27 20:25:52,399 [INFO] Updated LV0 header: ELENORA_015_20250717055030.fits\n",
      "2025-10-27 20:25:52,442 [INFO] Updated LV0 header: ELENORA_006_20250717053642.fits\n",
      "2025-10-27 20:25:52,491 [INFO] Updated LV0 header: dk03_009.fits\n",
      "2025-10-27 20:25:52,533 [INFO] Updated LV0 header: dk02_009.fits\n",
      "2025-10-27 20:25:52,577 [INFO] Updated LV0 header: dark090_001.fits\n",
      "2025-10-27 20:25:52,655 [INFO] Updated LV0 header: dk03_008.fits\n",
      "2025-10-27 20:25:52,697 [INFO] Updated LV0 header: dk02_008.fits\n",
      "2025-10-27 20:25:52,740 [INFO] Updated LV0 header: dk01_001.fits\n",
      "2025-10-27 20:25:52,783 [INFO] Updated LV0 header: ELENORA_002_20250717053033.fits\n",
      "2025-10-27 20:25:52,824 [INFO] Updated LV0 header: bias_009.fits\n",
      "2025-10-27 20:25:52,911 [INFO] Updated LV0 header: ELENORA_010_20250717054251.fits\n",
      "2025-10-27 20:25:52,952 [INFO] Updated LV0 header: ELENORA_004_20250717053337.fits\n",
      "2025-10-27 20:25:52,995 [INFO] Updated LV0 header: dark004_006.fits\n",
      "2025-10-27 20:25:53,037 [INFO] Updated LV0 header: dk02_004.fits\n",
      "2025-10-27 20:25:53,081 [INFO] Updated LV0 header: dk03_004.fits\n",
      "2025-10-27 20:25:53,123 [INFO] Updated LV0 header: ELENORA_038_20250717062550.fits\n",
      "2025-10-27 20:25:53,185 [INFO] Updated LV0 header: CARLOVA_005_20250717090918.fits\n",
      "2025-10-27 20:25:53,226 [INFO] Updated LV0 header: dark008_001.fits\n",
      "2025-10-27 20:25:53,271 [INFO] Updated LV0 header: bias_005.fits\n",
      "2025-10-27 20:25:53,312 [INFO] Updated LV0 header: ELENORA_009_20250717054119.fits\n",
      "2025-10-27 20:25:53,355 [INFO] Updated LV0 header: ELENORA_028_20250717061028.fits\n",
      "2025-10-27 20:25:53,440 [INFO] Updated LV0 header: dk05_003.fits\n",
      "2025-10-27 20:25:53,484 [INFO] Updated LV0 header: dark006_003.fits\n",
      "2025-10-27 20:25:53,526 [INFO] Updated LV0 header: dark007_003.fits\n"
     ]
    }
   ],
   "source": [
    "# Step 2: Lv0 Header Update\n",
    "logger.info(\"--- Step 2: Lv0 Header Update ---\")\n",
    "lv0 = solopy.Lv0(log_file=fpath_log_lv0)\n",
    "\n",
    "fpaths_fits = list(LV0_subdir.glob(\"*.fits\"))\n",
    "if not fpaths_fits:\n",
    "    raise FileNotFoundError(f\"No .fits files found in {LV0_subdir}.\")\n",
    "\n",
    "for fpath in fpaths_fits:\n",
    "    lv0.update_header(fpath) # Update header in-place"
   ]
  },
  {
   "cell_type": "code",
   "execution_count": 7,
   "id": "1ed5dc82",
   "metadata": {},
   "outputs": [
    {
     "name": "stderr",
     "output_type": "stream",
     "text": [
      "2025-10-27 20:25:57,412 [INFO] --- Step 3: CombMaster Frame Generation ---\n",
      "2025-10-27 20:25:57,621 [INFO] Starting master bias combination...\n",
      "2025-10-27 20:25:57,622 [INFO] Loading 8 frames...\n",
      "2025-10-27 20:25:57,640 [INFO] using the unit adu passed to the FITS reader instead of the unit adu in the FITS file.\n",
      "2025-10-27 20:25:57,658 [INFO] using the unit adu passed to the FITS reader instead of the unit adu in the FITS file.\n",
      "2025-10-27 20:25:57,674 [INFO] using the unit adu passed to the FITS reader instead of the unit adu in the FITS file.\n",
      "2025-10-27 20:25:57,691 [INFO] using the unit adu passed to the FITS reader instead of the unit adu in the FITS file.\n",
      "2025-10-27 20:25:57,711 [INFO] using the unit adu passed to the FITS reader instead of the unit adu in the FITS file.\n",
      "2025-10-27 20:25:57,732 [INFO] using the unit adu passed to the FITS reader instead of the unit adu in the FITS file.\n",
      "2025-10-27 20:25:57,752 [INFO] using the unit adu passed to the FITS reader instead of the unit adu in the FITS file.\n",
      "2025-10-27 20:25:57,772 [INFO] using the unit adu passed to the FITS reader instead of the unit adu in the FITS file.\n",
      "2025-10-27 20:25:57,774 [INFO] Combining 8 bias CCDData objects...\n",
      "2025-10-27 20:25:57,814 [INFO] splitting each image into 10 chunks to limit memory usage to 500000000.0 bytes.\n"
     ]
    },
    {
     "name": "stdout",
     "output_type": "stream",
     "text": [
      "INFO: using the unit adu passed to the FITS reader instead of the unit adu in the FITS file. [astropy.nddata.ccddata]\n",
      "INFO: using the unit adu passed to the FITS reader instead of the unit adu in the FITS file. [astropy.nddata.ccddata]\n",
      "INFO: using the unit adu passed to the FITS reader instead of the unit adu in the FITS file. [astropy.nddata.ccddata]\n",
      "INFO: using the unit adu passed to the FITS reader instead of the unit adu in the FITS file. [astropy.nddata.ccddata]\n",
      "INFO: using the unit adu passed to the FITS reader instead of the unit adu in the FITS file. [astropy.nddata.ccddata]\n",
      "INFO: using the unit adu passed to the FITS reader instead of the unit adu in the FITS file. [astropy.nddata.ccddata]\n",
      "INFO: using the unit adu passed to the FITS reader instead of the unit adu in the FITS file. [astropy.nddata.ccddata]\n",
      "INFO: using the unit adu passed to the FITS reader instead of the unit adu in the FITS file. [astropy.nddata.ccddata]\n",
      "INFO: splitting each image into 10 chunks to limit memory usage to 500000000.0 bytes. [ccdproc.combiner]\n"
     ]
    },
    {
     "name": "stderr",
     "output_type": "stream",
     "text": [
      "2025-10-27 20:26:08,390 [INFO] Master bias saved to kl4040.bias.comb.20250717.fits\n",
      "2025-10-27 20:26:08,509 [INFO] Starting master dark creation...\n",
      "2025-10-27 20:26:08,527 [INFO] Loading 81 frames...\n",
      "2025-10-27 20:26:08,545 [INFO] using the unit adu passed to the FITS reader instead of the unit adu in the FITS file.\n",
      "2025-10-27 20:26:08,562 [INFO] using the unit adu passed to the FITS reader instead of the unit adu in the FITS file.\n",
      "2025-10-27 20:26:08,580 [INFO] using the unit adu passed to the FITS reader instead of the unit adu in the FITS file.\n",
      "2025-10-27 20:26:08,639 [INFO] using the unit adu passed to the FITS reader instead of the unit adu in the FITS file.\n",
      "2025-10-27 20:26:08,666 [INFO] using the unit adu passed to the FITS reader instead of the unit adu in the FITS file.\n",
      "2025-10-27 20:26:08,682 [INFO] using the unit adu passed to the FITS reader instead of the unit adu in the FITS file.\n",
      "2025-10-27 20:26:08,699 [INFO] using the unit adu passed to the FITS reader instead of the unit adu in the FITS file.\n",
      "2025-10-27 20:26:08,728 [INFO] using the unit adu passed to the FITS reader instead of the unit adu in the FITS file.\n"
     ]
    },
    {
     "name": "stdout",
     "output_type": "stream",
     "text": [
      "INFO: using the unit adu passed to the FITS reader instead of the unit adu in the FITS file. [astropy.nddata.ccddata]\n",
      "INFO: using the unit adu passed to the FITS reader instead of the unit adu in the FITS file. [astropy.nddata.ccddata]\n",
      "INFO: using the unit adu passed to the FITS reader instead of the unit adu in the FITS file. [astropy.nddata.ccddata]\n",
      "INFO: using the unit adu passed to the FITS reader instead of the unit adu in the FITS file. [astropy.nddata.ccddata]\n",
      "INFO: using the unit adu passed to the FITS reader instead of the unit adu in the FITS file. [astropy.nddata.ccddata]\n",
      "INFO: using the unit adu passed to the FITS reader instead of the unit adu in the FITS file. [astropy.nddata.ccddata]\n",
      "INFO: using the unit adu passed to the FITS reader instead of the unit adu in the FITS file. [astropy.nddata.ccddata]\n",
      "INFO: using the unit adu passed to the FITS reader instead of the unit adu in the FITS file. [astropy.nddata.ccddata]\n"
     ]
    },
    {
     "name": "stderr",
     "output_type": "stream",
     "text": [
      "2025-10-27 20:26:08,752 [INFO] using the unit adu passed to the FITS reader instead of the unit adu in the FITS file.\n",
      "2025-10-27 20:26:08,770 [INFO] using the unit adu passed to the FITS reader instead of the unit adu in the FITS file.\n",
      "2025-10-27 20:26:08,786 [INFO] using the unit adu passed to the FITS reader instead of the unit adu in the FITS file.\n",
      "2025-10-27 20:26:08,803 [INFO] using the unit adu passed to the FITS reader instead of the unit adu in the FITS file.\n",
      "2025-10-27 20:26:08,821 [INFO] using the unit adu passed to the FITS reader instead of the unit adu in the FITS file.\n",
      "2025-10-27 20:26:08,839 [INFO] using the unit adu passed to the FITS reader instead of the unit adu in the FITS file.\n",
      "2025-10-27 20:26:08,857 [INFO] using the unit adu passed to the FITS reader instead of the unit adu in the FITS file.\n",
      "2025-10-27 20:26:08,874 [INFO] using the unit adu passed to the FITS reader instead of the unit adu in the FITS file.\n",
      "2025-10-27 20:26:08,892 [INFO] using the unit adu passed to the FITS reader instead of the unit adu in the FITS file.\n",
      "2025-10-27 20:26:08,912 [INFO] using the unit adu passed to the FITS reader instead of the unit adu in the FITS file.\n",
      "2025-10-27 20:26:08,931 [INFO] using the unit adu passed to the FITS reader instead of the unit adu in the FITS file.\n",
      "2025-10-27 20:26:08,950 [INFO] using the unit adu passed to the FITS reader instead of the unit adu in the FITS file.\n"
     ]
    },
    {
     "name": "stdout",
     "output_type": "stream",
     "text": [
      "INFO: using the unit adu passed to the FITS reader instead of the unit adu in the FITS file. [astropy.nddata.ccddata]\n",
      "INFO: using the unit adu passed to the FITS reader instead of the unit adu in the FITS file. [astropy.nddata.ccddata]\n",
      "INFO: using the unit adu passed to the FITS reader instead of the unit adu in the FITS file. [astropy.nddata.ccddata]\n",
      "INFO: using the unit adu passed to the FITS reader instead of the unit adu in the FITS file. [astropy.nddata.ccddata]\n",
      "INFO: using the unit adu passed to the FITS reader instead of the unit adu in the FITS file. [astropy.nddata.ccddata]\n",
      "INFO: using the unit adu passed to the FITS reader instead of the unit adu in the FITS file. [astropy.nddata.ccddata]\n",
      "INFO: using the unit adu passed to the FITS reader instead of the unit adu in the FITS file. [astropy.nddata.ccddata]\n",
      "INFO: using the unit adu passed to the FITS reader instead of the unit adu in the FITS file. [astropy.nddata.ccddata]\n",
      "INFO: using the unit adu passed to the FITS reader instead of the unit adu in the FITS file. [astropy.nddata.ccddata]\n",
      "INFO: using the unit adu passed to the FITS reader instead of the unit adu in the FITS file. [astropy.nddata.ccddata]\n",
      "INFO: using the unit adu passed to the FITS reader instead of the unit adu in the FITS file. [astropy.nddata.ccddata]\n",
      "INFO: using the unit adu passed to the FITS reader instead of the unit adu in the FITS file. [astropy.nddata.ccddata]\n"
     ]
    },
    {
     "name": "stderr",
     "output_type": "stream",
     "text": [
      "2025-10-27 20:26:08,970 [INFO] using the unit adu passed to the FITS reader instead of the unit adu in the FITS file.\n",
      "2025-10-27 20:26:08,989 [INFO] using the unit adu passed to the FITS reader instead of the unit adu in the FITS file.\n",
      "2025-10-27 20:26:09,009 [INFO] using the unit adu passed to the FITS reader instead of the unit adu in the FITS file.\n",
      "2025-10-27 20:26:09,030 [INFO] using the unit adu passed to the FITS reader instead of the unit adu in the FITS file.\n",
      "2025-10-27 20:26:09,053 [INFO] using the unit adu passed to the FITS reader instead of the unit adu in the FITS file.\n",
      "2025-10-27 20:26:09,072 [INFO] using the unit adu passed to the FITS reader instead of the unit adu in the FITS file.\n",
      "2025-10-27 20:26:09,091 [INFO] using the unit adu passed to the FITS reader instead of the unit adu in the FITS file.\n",
      "2025-10-27 20:26:09,111 [INFO] using the unit adu passed to the FITS reader instead of the unit adu in the FITS file.\n",
      "2025-10-27 20:26:09,160 [INFO] using the unit adu passed to the FITS reader instead of the unit adu in the FITS file.\n"
     ]
    },
    {
     "name": "stdout",
     "output_type": "stream",
     "text": [
      "INFO: using the unit adu passed to the FITS reader instead of the unit adu in the FITS file. [astropy.nddata.ccddata]\n",
      "INFO: using the unit adu passed to the FITS reader instead of the unit adu in the FITS file. [astropy.nddata.ccddata]\n",
      "INFO: using the unit adu passed to the FITS reader instead of the unit adu in the FITS file. [astropy.nddata.ccddata]\n",
      "INFO: using the unit adu passed to the FITS reader instead of the unit adu in the FITS file. [astropy.nddata.ccddata]\n",
      "INFO: using the unit adu passed to the FITS reader instead of the unit adu in the FITS file. [astropy.nddata.ccddata]\n",
      "INFO: using the unit adu passed to the FITS reader instead of the unit adu in the FITS file. [astropy.nddata.ccddata]\n",
      "INFO: using the unit adu passed to the FITS reader instead of the unit adu in the FITS file. [astropy.nddata.ccddata]\n",
      "INFO: using the unit adu passed to the FITS reader instead of the unit adu in the FITS file. [astropy.nddata.ccddata]\n",
      "INFO: using the unit adu passed to the FITS reader instead of the unit adu in the FITS file. [astropy.nddata.ccddata]\n"
     ]
    },
    {
     "name": "stderr",
     "output_type": "stream",
     "text": [
      "2025-10-27 20:26:09,180 [INFO] using the unit adu passed to the FITS reader instead of the unit adu in the FITS file.\n",
      "2025-10-27 20:26:09,199 [INFO] using the unit adu passed to the FITS reader instead of the unit adu in the FITS file.\n",
      "2025-10-27 20:26:09,219 [INFO] using the unit adu passed to the FITS reader instead of the unit adu in the FITS file.\n",
      "2025-10-27 20:26:09,239 [INFO] using the unit adu passed to the FITS reader instead of the unit adu in the FITS file.\n",
      "2025-10-27 20:26:09,259 [INFO] using the unit adu passed to the FITS reader instead of the unit adu in the FITS file.\n",
      "2025-10-27 20:26:09,277 [INFO] using the unit adu passed to the FITS reader instead of the unit adu in the FITS file.\n",
      "2025-10-27 20:26:09,298 [INFO] using the unit adu passed to the FITS reader instead of the unit adu in the FITS file.\n",
      "2025-10-27 20:26:09,316 [INFO] using the unit adu passed to the FITS reader instead of the unit adu in the FITS file.\n",
      "2025-10-27 20:26:09,337 [INFO] using the unit adu passed to the FITS reader instead of the unit adu in the FITS file.\n",
      "2025-10-27 20:26:09,364 [INFO] using the unit adu passed to the FITS reader instead of the unit adu in the FITS file.\n"
     ]
    },
    {
     "name": "stdout",
     "output_type": "stream",
     "text": [
      "INFO: using the unit adu passed to the FITS reader instead of the unit adu in the FITS file. [astropy.nddata.ccddata]\n",
      "INFO: using the unit adu passed to the FITS reader instead of the unit adu in the FITS file. [astropy.nddata.ccddata]\n",
      "INFO: using the unit adu passed to the FITS reader instead of the unit adu in the FITS file. [astropy.nddata.ccddata]\n",
      "INFO: using the unit adu passed to the FITS reader instead of the unit adu in the FITS file. [astropy.nddata.ccddata]\n",
      "INFO: using the unit adu passed to the FITS reader instead of the unit adu in the FITS file. [astropy.nddata.ccddata]\n",
      "INFO: using the unit adu passed to the FITS reader instead of the unit adu in the FITS file. [astropy.nddata.ccddata]\n",
      "INFO: using the unit adu passed to the FITS reader instead of the unit adu in the FITS file. [astropy.nddata.ccddata]\n",
      "INFO: using the unit adu passed to the FITS reader instead of the unit adu in the FITS file. [astropy.nddata.ccddata]\n",
      "INFO: using the unit adu passed to the FITS reader instead of the unit adu in the FITS file. [astropy.nddata.ccddata]\n",
      "INFO: using the unit adu passed to the FITS reader instead of the unit adu in the FITS file. [astropy.nddata.ccddata]\n"
     ]
    },
    {
     "name": "stderr",
     "output_type": "stream",
     "text": [
      "2025-10-27 20:26:09,385 [INFO] using the unit adu passed to the FITS reader instead of the unit adu in the FITS file.\n",
      "2025-10-27 20:26:09,406 [INFO] using the unit adu passed to the FITS reader instead of the unit adu in the FITS file.\n",
      "2025-10-27 20:26:09,425 [INFO] using the unit adu passed to the FITS reader instead of the unit adu in the FITS file.\n",
      "2025-10-27 20:26:09,446 [INFO] using the unit adu passed to the FITS reader instead of the unit adu in the FITS file.\n",
      "2025-10-27 20:26:09,468 [INFO] using the unit adu passed to the FITS reader instead of the unit adu in the FITS file.\n",
      "2025-10-27 20:26:09,511 [INFO] using the unit adu passed to the FITS reader instead of the unit adu in the FITS file.\n",
      "2025-10-27 20:26:09,531 [INFO] using the unit adu passed to the FITS reader instead of the unit adu in the FITS file.\n",
      "2025-10-27 20:26:09,550 [INFO] using the unit adu passed to the FITS reader instead of the unit adu in the FITS file.\n",
      "2025-10-27 20:26:09,570 [INFO] using the unit adu passed to the FITS reader instead of the unit adu in the FITS file.\n"
     ]
    },
    {
     "name": "stdout",
     "output_type": "stream",
     "text": [
      "INFO: using the unit adu passed to the FITS reader instead of the unit adu in the FITS file. [astropy.nddata.ccddata]\n",
      "INFO: using the unit adu passed to the FITS reader instead of the unit adu in the FITS file. [astropy.nddata.ccddata]\n",
      "INFO: using the unit adu passed to the FITS reader instead of the unit adu in the FITS file. [astropy.nddata.ccddata]\n",
      "INFO: using the unit adu passed to the FITS reader instead of the unit adu in the FITS file. [astropy.nddata.ccddata]\n",
      "INFO: using the unit adu passed to the FITS reader instead of the unit adu in the FITS file. [astropy.nddata.ccddata]\n",
      "INFO: using the unit adu passed to the FITS reader instead of the unit adu in the FITS file. [astropy.nddata.ccddata]\n",
      "INFO: using the unit adu passed to the FITS reader instead of the unit adu in the FITS file. [astropy.nddata.ccddata]\n",
      "INFO: using the unit adu passed to the FITS reader instead of the unit adu in the FITS file. [astropy.nddata.ccddata]\n",
      "INFO: using the unit adu passed to the FITS reader instead of the unit adu in the FITS file. [astropy.nddata.ccddata]\n"
     ]
    },
    {
     "name": "stderr",
     "output_type": "stream",
     "text": [
      "2025-10-27 20:26:09,593 [INFO] using the unit adu passed to the FITS reader instead of the unit adu in the FITS file.\n",
      "2025-10-27 20:26:09,612 [INFO] using the unit adu passed to the FITS reader instead of the unit adu in the FITS file.\n",
      "2025-10-27 20:26:09,630 [INFO] using the unit adu passed to the FITS reader instead of the unit adu in the FITS file.\n",
      "2025-10-27 20:26:09,651 [INFO] using the unit adu passed to the FITS reader instead of the unit adu in the FITS file.\n",
      "2025-10-27 20:26:09,674 [INFO] using the unit adu passed to the FITS reader instead of the unit adu in the FITS file.\n",
      "2025-10-27 20:26:09,736 [INFO] using the unit adu passed to the FITS reader instead of the unit adu in the FITS file.\n",
      "2025-10-27 20:26:09,755 [INFO] using the unit adu passed to the FITS reader instead of the unit adu in the FITS file.\n"
     ]
    },
    {
     "name": "stdout",
     "output_type": "stream",
     "text": [
      "INFO: using the unit adu passed to the FITS reader instead of the unit adu in the FITS file. [astropy.nddata.ccddata]\n",
      "INFO: using the unit adu passed to the FITS reader instead of the unit adu in the FITS file. [astropy.nddata.ccddata]\n",
      "INFO: using the unit adu passed to the FITS reader instead of the unit adu in the FITS file. [astropy.nddata.ccddata]\n",
      "INFO: using the unit adu passed to the FITS reader instead of the unit adu in the FITS file. [astropy.nddata.ccddata]\n",
      "INFO: using the unit adu passed to the FITS reader instead of the unit adu in the FITS file. [astropy.nddata.ccddata]\n",
      "INFO: using the unit adu passed to the FITS reader instead of the unit adu in the FITS file. [astropy.nddata.ccddata]\n",
      "INFO: using the unit adu passed to the FITS reader instead of the unit adu in the FITS file. [astropy.nddata.ccddata]\n"
     ]
    },
    {
     "name": "stderr",
     "output_type": "stream",
     "text": [
      "2025-10-27 20:26:09,833 [INFO] using the unit adu passed to the FITS reader instead of the unit adu in the FITS file.\n",
      "2025-10-27 20:26:09,903 [INFO] using the unit adu passed to the FITS reader instead of the unit adu in the FITS file.\n",
      "2025-10-27 20:26:09,924 [INFO] using the unit adu passed to the FITS reader instead of the unit adu in the FITS file.\n",
      "2025-10-27 20:26:09,944 [INFO] using the unit adu passed to the FITS reader instead of the unit adu in the FITS file.\n",
      "2025-10-27 20:26:09,966 [INFO] using the unit adu passed to the FITS reader instead of the unit adu in the FITS file.\n",
      "2025-10-27 20:26:09,988 [INFO] using the unit adu passed to the FITS reader instead of the unit adu in the FITS file.\n",
      "2025-10-27 20:26:10,008 [INFO] using the unit adu passed to the FITS reader instead of the unit adu in the FITS file.\n",
      "2025-10-27 20:26:10,026 [INFO] using the unit adu passed to the FITS reader instead of the unit adu in the FITS file.\n"
     ]
    },
    {
     "name": "stdout",
     "output_type": "stream",
     "text": [
      "INFO: using the unit adu passed to the FITS reader instead of the unit adu in the FITS file. [astropy.nddata.ccddata]\n",
      "INFO: using the unit adu passed to the FITS reader instead of the unit adu in the FITS file. [astropy.nddata.ccddata]\n",
      "INFO: using the unit adu passed to the FITS reader instead of the unit adu in the FITS file. [astropy.nddata.ccddata]\n",
      "INFO: using the unit adu passed to the FITS reader instead of the unit adu in the FITS file. [astropy.nddata.ccddata]\n",
      "INFO: using the unit adu passed to the FITS reader instead of the unit adu in the FITS file. [astropy.nddata.ccddata]\n",
      "INFO: using the unit adu passed to the FITS reader instead of the unit adu in the FITS file. [astropy.nddata.ccddata]\n",
      "INFO: using the unit adu passed to the FITS reader instead of the unit adu in the FITS file. [astropy.nddata.ccddata]\n",
      "INFO: using the unit adu passed to the FITS reader instead of the unit adu in the FITS file. [astropy.nddata.ccddata]\n"
     ]
    },
    {
     "name": "stderr",
     "output_type": "stream",
     "text": [
      "2025-10-27 20:26:10,046 [INFO] using the unit adu passed to the FITS reader instead of the unit adu in the FITS file.\n",
      "2025-10-27 20:26:10,110 [INFO] using the unit adu passed to the FITS reader instead of the unit adu in the FITS file.\n",
      "2025-10-27 20:26:10,178 [INFO] using the unit adu passed to the FITS reader instead of the unit adu in the FITS file.\n",
      "2025-10-27 20:26:10,199 [INFO] using the unit adu passed to the FITS reader instead of the unit adu in the FITS file.\n",
      "2025-10-27 20:26:10,216 [INFO] using the unit adu passed to the FITS reader instead of the unit adu in the FITS file.\n",
      "2025-10-27 20:26:10,233 [INFO] using the unit adu passed to the FITS reader instead of the unit adu in the FITS file.\n"
     ]
    },
    {
     "name": "stdout",
     "output_type": "stream",
     "text": [
      "INFO: using the unit adu passed to the FITS reader instead of the unit adu in the FITS file. [astropy.nddata.ccddata]\n",
      "INFO: using the unit adu passed to the FITS reader instead of the unit adu in the FITS file. [astropy.nddata.ccddata]\n",
      "INFO: using the unit adu passed to the FITS reader instead of the unit adu in the FITS file. [astropy.nddata.ccddata]\n",
      "INFO: using the unit adu passed to the FITS reader instead of the unit adu in the FITS file. [astropy.nddata.ccddata]\n",
      "INFO: using the unit adu passed to the FITS reader instead of the unit adu in the FITS file. [astropy.nddata.ccddata]\n",
      "INFO: using the unit adu passed to the FITS reader instead of the unit adu in the FITS file. [astropy.nddata.ccddata]\n"
     ]
    },
    {
     "name": "stderr",
     "output_type": "stream",
     "text": [
      "2025-10-27 20:26:10,252 [INFO] using the unit adu passed to the FITS reader instead of the unit adu in the FITS file.\n",
      "2025-10-27 20:26:10,273 [INFO] using the unit adu passed to the FITS reader instead of the unit adu in the FITS file.\n",
      "2025-10-27 20:26:10,292 [INFO] using the unit adu passed to the FITS reader instead of the unit adu in the FITS file.\n",
      "2025-10-27 20:26:10,313 [INFO] using the unit adu passed to the FITS reader instead of the unit adu in the FITS file.\n",
      "2025-10-27 20:26:10,374 [INFO] using the unit adu passed to the FITS reader instead of the unit adu in the FITS file.\n",
      "2025-10-27 20:26:10,395 [INFO] using the unit adu passed to the FITS reader instead of the unit adu in the FITS file.\n"
     ]
    },
    {
     "name": "stdout",
     "output_type": "stream",
     "text": [
      "INFO: using the unit adu passed to the FITS reader instead of the unit adu in the FITS file. [astropy.nddata.ccddata]\n",
      "INFO: using the unit adu passed to the FITS reader instead of the unit adu in the FITS file. [astropy.nddata.ccddata]\n",
      "INFO: using the unit adu passed to the FITS reader instead of the unit adu in the FITS file. [astropy.nddata.ccddata]\n",
      "INFO: using the unit adu passed to the FITS reader instead of the unit adu in the FITS file. [astropy.nddata.ccddata]\n",
      "INFO: using the unit adu passed to the FITS reader instead of the unit adu in the FITS file. [astropy.nddata.ccddata]\n",
      "INFO: using the unit adu passed to the FITS reader instead of the unit adu in the FITS file. [astropy.nddata.ccddata]\n"
     ]
    },
    {
     "name": "stderr",
     "output_type": "stream",
     "text": [
      "2025-10-27 20:26:10,459 [INFO] using the unit adu passed to the FITS reader instead of the unit adu in the FITS file.\n",
      "2025-10-27 20:26:10,524 [INFO] using the unit adu passed to the FITS reader instead of the unit adu in the FITS file.\n",
      "2025-10-27 20:26:10,544 [INFO] using the unit adu passed to the FITS reader instead of the unit adu in the FITS file.\n",
      "2025-10-27 20:26:10,612 [INFO] using the unit adu passed to the FITS reader instead of the unit adu in the FITS file.\n"
     ]
    },
    {
     "name": "stdout",
     "output_type": "stream",
     "text": [
      "INFO: using the unit adu passed to the FITS reader instead of the unit adu in the FITS file. [astropy.nddata.ccddata]\n",
      "INFO: using the unit adu passed to the FITS reader instead of the unit adu in the FITS file. [astropy.nddata.ccddata]\n",
      "INFO: using the unit adu passed to the FITS reader instead of the unit adu in the FITS file. [astropy.nddata.ccddata]\n",
      "INFO: using the unit adu passed to the FITS reader instead of the unit adu in the FITS file. [astropy.nddata.ccddata]\n"
     ]
    },
    {
     "name": "stderr",
     "output_type": "stream",
     "text": [
      "2025-10-27 20:26:10,677 [INFO] using the unit adu passed to the FITS reader instead of the unit adu in the FITS file.\n",
      "2025-10-27 20:26:10,736 [INFO] using the unit adu passed to the FITS reader instead of the unit adu in the FITS file.\n"
     ]
    },
    {
     "name": "stdout",
     "output_type": "stream",
     "text": [
      "INFO: using the unit adu passed to the FITS reader instead of the unit adu in the FITS file. [astropy.nddata.ccddata]\n",
      "INFO: using the unit adu passed to the FITS reader instead of the unit adu in the FITS file. [astropy.nddata.ccddata]\n"
     ]
    },
    {
     "name": "stderr",
     "output_type": "stream",
     "text": [
      "2025-10-27 20:26:11,233 [INFO] using the unit adu passed to the FITS reader instead of the unit adu in the FITS file.\n",
      "2025-10-27 20:26:11,234 [INFO] Using master bias: kl4040.bias.comb.20250717.fits\n"
     ]
    },
    {
     "name": "stdout",
     "output_type": "stream",
     "text": [
      "INFO: using the unit adu passed to the FITS reader instead of the unit adu in the FITS file. [astropy.nddata.ccddata]\n"
     ]
    },
    {
     "name": "stderr",
     "output_type": "stream",
     "text": [
      "2025-10-27 20:26:14,043 [INFO] Combining 9 darks for exptime 4.0s...\n",
      "2025-10-27 20:26:14,117 [INFO] splitting each image into 11 chunks to limit memory usage to 500000000.0 bytes.\n"
     ]
    },
    {
     "name": "stdout",
     "output_type": "stream",
     "text": [
      "INFO: splitting each image into 11 chunks to limit memory usage to 500000000.0 bytes. [ccdproc.combiner]\n"
     ]
    },
    {
     "name": "stderr",
     "output_type": "stream",
     "text": [
      "2025-10-27 20:26:27,199 [INFO] Master dark saved to kl4040.dark.4s.comb.20250717.fits\n",
      "2025-10-27 20:26:27,199 [INFO] Combining 9 darks for exptime 6.0s...\n",
      "2025-10-27 20:26:27,270 [INFO] splitting each image into 11 chunks to limit memory usage to 500000000.0 bytes.\n"
     ]
    },
    {
     "name": "stdout",
     "output_type": "stream",
     "text": [
      "INFO: splitting each image into 11 chunks to limit memory usage to 500000000.0 bytes. [ccdproc.combiner]\n"
     ]
    },
    {
     "name": "stderr",
     "output_type": "stream",
     "text": [
      "2025-10-27 20:26:40,357 [INFO] Master dark saved to kl4040.dark.6s.comb.20250717.fits\n",
      "2025-10-27 20:26:40,358 [INFO] Combining 9 darks for exptime 7.0s...\n",
      "2025-10-27 20:26:40,414 [INFO] splitting each image into 11 chunks to limit memory usage to 500000000.0 bytes.\n"
     ]
    },
    {
     "name": "stdout",
     "output_type": "stream",
     "text": [
      "INFO: splitting each image into 11 chunks to limit memory usage to 500000000.0 bytes. [ccdproc.combiner]\n"
     ]
    },
    {
     "name": "stderr",
     "output_type": "stream",
     "text": [
      "2025-10-27 20:26:53,322 [INFO] Master dark saved to kl4040.dark.7s.comb.20250717.fits\n",
      "2025-10-27 20:26:53,323 [INFO] Combining 9 darks for exptime 8.0s...\n",
      "2025-10-27 20:26:53,377 [INFO] splitting each image into 11 chunks to limit memory usage to 500000000.0 bytes.\n"
     ]
    },
    {
     "name": "stdout",
     "output_type": "stream",
     "text": [
      "INFO: splitting each image into 11 chunks to limit memory usage to 500000000.0 bytes. [ccdproc.combiner]\n"
     ]
    },
    {
     "name": "stderr",
     "output_type": "stream",
     "text": [
      "2025-10-27 20:27:06,452 [INFO] Master dark saved to kl4040.dark.8s.comb.20250717.fits\n",
      "2025-10-27 20:27:06,452 [INFO] Combining 9 darks for exptime 90.0s...\n",
      "2025-10-27 20:27:06,508 [INFO] splitting each image into 11 chunks to limit memory usage to 500000000.0 bytes.\n"
     ]
    },
    {
     "name": "stdout",
     "output_type": "stream",
     "text": [
      "INFO: splitting each image into 11 chunks to limit memory usage to 500000000.0 bytes. [ccdproc.combiner]\n"
     ]
    },
    {
     "name": "stderr",
     "output_type": "stream",
     "text": [
      "2025-10-27 20:27:18,623 [INFO] Master dark saved to kl4040.dark.90s.comb.20250717.fits\n",
      "2025-10-27 20:27:18,624 [INFO] Combining 9 darks for exptime 1.0s...\n",
      "2025-10-27 20:27:18,670 [INFO] splitting each image into 11 chunks to limit memory usage to 500000000.0 bytes.\n"
     ]
    },
    {
     "name": "stdout",
     "output_type": "stream",
     "text": [
      "INFO: splitting each image into 11 chunks to limit memory usage to 500000000.0 bytes. [ccdproc.combiner]\n"
     ]
    },
    {
     "name": "stderr",
     "output_type": "stream",
     "text": [
      "2025-10-27 20:27:31,290 [INFO] Master dark saved to kl4040.dark.1s.comb.20250717.fits\n",
      "2025-10-27 20:27:31,290 [INFO] Combining 9 darks for exptime 2.0s...\n",
      "2025-10-27 20:27:31,335 [INFO] splitting each image into 11 chunks to limit memory usage to 500000000.0 bytes.\n"
     ]
    },
    {
     "name": "stdout",
     "output_type": "stream",
     "text": [
      "INFO: splitting each image into 11 chunks to limit memory usage to 500000000.0 bytes. [ccdproc.combiner]\n"
     ]
    },
    {
     "name": "stderr",
     "output_type": "stream",
     "text": [
      "2025-10-27 20:27:43,892 [INFO] Master dark saved to kl4040.dark.2s.comb.20250717.fits\n",
      "2025-10-27 20:27:43,892 [INFO] Combining 9 darks for exptime 3.0s...\n",
      "2025-10-27 20:27:43,937 [INFO] splitting each image into 11 chunks to limit memory usage to 500000000.0 bytes.\n"
     ]
    },
    {
     "name": "stdout",
     "output_type": "stream",
     "text": [
      "INFO: splitting each image into 11 chunks to limit memory usage to 500000000.0 bytes. [ccdproc.combiner]\n"
     ]
    },
    {
     "name": "stderr",
     "output_type": "stream",
     "text": [
      "2025-10-27 20:27:56,534 [INFO] Master dark saved to kl4040.dark.3s.comb.20250717.fits\n",
      "2025-10-27 20:27:56,534 [INFO] Combining 9 darks for exptime 5.0s...\n",
      "2025-10-27 20:27:56,581 [INFO] splitting each image into 11 chunks to limit memory usage to 500000000.0 bytes.\n"
     ]
    },
    {
     "name": "stdout",
     "output_type": "stream",
     "text": [
      "INFO: splitting each image into 11 chunks to limit memory usage to 500000000.0 bytes. [ccdproc.combiner]\n"
     ]
    },
    {
     "name": "stderr",
     "output_type": "stream",
     "text": [
      "2025-10-27 20:28:09,332 [INFO] Master dark saved to kl4040.dark.5s.comb.20250717.fits\n"
     ]
    }
   ],
   "source": [
    "logger.info(\"--- Step 3: CombMaster Frame Generation ---\")\n",
    "comb = solopy.CombMaster(log_file=fpath_log_comb)\n",
    "\n",
    "# Collect all Lv0 fits files\n",
    "all_lv0_fits = ccdproc.ImageFileCollection(LV0_subdir, glob_exclude=\"*.bz2\", glob_include=\"*.fits\")\n",
    "\n",
    "# Master bias\n",
    "bias_files = all_lv0_fits.files_filtered(IMAGETYP=\"BIAS\", include_path=True)\n",
    "if bias_files:\n",
    "    comb.make_mbias(bias_files, MASTERDIR)\n",
    "    \n",
    "# Master dark\n",
    "dark_files = all_lv0_fits.files_filtered(IMAGETYP=\"DARK\", include_path=True)\n",
    "if dark_files:\n",
    "    comb.make_mdark(dark_files, MASTERDIR, key_exptime='EXPTIME')"
   ]
  },
  {
   "cell_type": "code",
   "execution_count": null,
   "id": "b57a4dc5",
   "metadata": {},
   "outputs": [],
   "source": []
  }
 ],
 "metadata": {
  "kernelspec": {
   "display_name": "solopy",
   "language": "python",
   "name": "python3"
  },
  "language_info": {
   "codemirror_mode": {
    "name": "ipython",
    "version": 3
   },
   "file_extension": ".py",
   "mimetype": "text/x-python",
   "name": "python",
   "nbconvert_exporter": "python",
   "pygments_lexer": "ipython3",
   "version": "3.11.11"
  }
 },
 "nbformat": 4,
 "nbformat_minor": 5
}
