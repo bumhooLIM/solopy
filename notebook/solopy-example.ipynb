{
 "cells": [
  {
   "cell_type": "code",
   "execution_count": 1,
   "id": "7528eb91",
   "metadata": {},
   "outputs": [],
   "source": [
    "import solopy\n",
    "from solopy import _utils\n",
    "import ccdproc\n",
    "from astropy.io import fits\n",
    "from astropy.time import Time\n",
    "from pathlib import Path\n",
    "import logging\n",
    "import bz2\n",
    "import shutil # 임시 디렉터리 삭제용"
   ]
  },
  {
   "cell_type": "code",
   "execution_count": 2,
   "id": "7ee4081e",
   "metadata": {},
   "outputs": [],
   "source": [
    "subdir = \"2025_0717\" # observation date"
   ]
  },
  {
   "cell_type": "code",
   "execution_count": 3,
   "id": "6734fcde",
   "metadata": {},
   "outputs": [],
   "source": [
    "# Data directory\n",
    "DATADIR = Path(\"../solo-data\")\n",
    "\n",
    "# Lv0 data directory\n",
    "LV0DIR = DATADIR/\"Lv0\"\n",
    "LV0_subdir = LV0DIR / subdir\n",
    "\n",
    "# Lv1 data directory\n",
    "LV1DIR = DATADIR/\"Lv1\"\n",
    "LV1_subdir = LV1DIR / subdir\n",
    "LV1_subdir.mkdir(parents=True, exist_ok=True)\n",
    "\n",
    "# Master calibration files directory\n",
    "MASTERDIR = DATADIR / \"calibration_files\"\n",
    "MASTERDIR.mkdir(parents=True, exist_ok=True)\n",
    "\n",
    "# Log directory\n",
    "LOGDIR = DATADIR/\"log\"\n",
    "LOGDIR.mkdir(parents=True, exist_ok=True)\n",
    "\n",
    "fpath_log_lv0 = LOGDIR/f'lv0_{subdir}.log' # log file path for Lv0\n",
    "if fpath_log_lv0.exists():\n",
    "    fpath_log_lv0.unlink() # remove existing log file\n",
    "    \n",
    "fpath_log_lv1 = LOGDIR/f'lv1_{subdir}.log' # log file path for Lv1\n",
    "if fpath_log_lv1.exists():\n",
    "    fpath_log_lv1.unlink() # remove existing log file\n",
    "\n",
    "fpath_log_comb = LOGDIR/f'combmaster_{subdir}.log' # log file path for CombMaster\n",
    "if fpath_log_comb.exists():\n",
    "    fpath_log_comb.unlink() # remove existing log file"
   ]
  },
  {
   "cell_type": "code",
   "execution_count": 4,
   "id": "12b3e447",
   "metadata": {},
   "outputs": [],
   "source": [
    "# Logger\n",
    "logging.basicConfig(level=logging.INFO,\n",
    "                    format=\"%(asctime)s [%(levelname)s] %(message)s\",\n",
    "                    handlers=[\n",
    "                        logging.StreamHandler(),\n",
    "                        logging.FileHandler(LOGDIR/\"solo-example.log\")\n",
    "                    ])\n",
    "logger = logging.getLogger(__name__)"
   ]
  },
  {
   "cell_type": "code",
   "execution_count": 5,
   "id": "80d37c9a",
   "metadata": {},
   "outputs": [
    {
     "name": "stderr",
     "output_type": "stream",
     "text": [
      "2025-10-27 20:23:33,802 [INFO] --- Step 1: Batch Decompress ---\n",
      "2025-10-27 20:23:33,803 [INFO] Decompressing 147 files from ../solo-data/Lv0/2025_0717 to ../solo-data/Lv0/2025_0717...\n",
      "Decompressing: 100%|██████████| 147/147 [01:22<00:00,  1.78it/s]\n"
     ]
    }
   ],
   "source": [
    "# Step 1: Batch Decompress\n",
    "logger.info(\"--- Step 1: Batch Decompress ---\")\n",
    "_utils.batch_decompress(LV0_subdir, LV0_subdir, delete_source=True)"
   ]
  },
  {
   "cell_type": "code",
   "execution_count": 6,
   "id": "a5762c27",
   "metadata": {},
   "outputs": [
    {
     "name": "stderr",
     "output_type": "stream",
     "text": [
      "2025-10-27 20:25:46,881 [INFO] --- Step 2: Lv0 Header Update ---\n",
      "2025-10-27 20:25:46,953 [INFO] Updated LV0 header: dk03_007.fits\n",
      "2025-10-27 20:25:46,994 [INFO] Updated LV0 header: dk02_007.fits\n",
      "2025-10-27 20:25:47,037 [INFO] Updated LV0 header: dark008_002.fits\n",
      "2025-10-27 20:25:47,082 [INFO] Updated LV0 header: bias_006.fits\n",
      "2025-10-27 20:25:47,127 [INFO] Updated LV0 header: ELENORA_031_20250717061504.fits\n",
      "2025-10-27 20:25:47,170 [INFO] Updated LV0 header: ELENORA_032_20250717061637.fits\n",
      "2025-10-27 20:25:47,212 [INFO] Updated LV0 header: CARLOVA_001_20250717090310.fits\n",
      "2025-10-27 20:25:47,254 [INFO] Updated LV0 header: dark004_009.fits\n",
      "2025-10-27 20:25:47,295 [INFO] Updated LV0 header: dark090_002.fits\n",
      "2025-10-27 20:25:47,336 [INFO] Updated LV0 header: dk01_002.fits\n",
      "2025-10-27 20:25:47,377 [INFO] Updated LV0 header: CARLOVA_012_20250717092002.fits\n",
      "2025-10-27 20:25:47,419 [INFO] Updated LV0 header: ELENORA_014_20250717054859.fits\n",
      "2025-10-27 20:25:47,462 [INFO] Updated LV0 header: CARLOVA_019_20250717093048.fits\n",
      "2025-10-27 20:25:47,503 [INFO] Updated LV0 header: CARLOVA_007_20250717091222.fits\n",
      "2025-10-27 20:25:47,545 [INFO] Updated LV0 header: dark004_005.fits\n",
      "2025-10-27 20:25:47,586 [INFO] Updated LV0 header: CARLOVA_014_20250717092307.fits\n",
      "2025-10-27 20:25:47,628 [INFO] Updated LV0 header: CARLOVA_010_20250717091658.fits\n",
      "2025-10-27 20:25:47,670 [INFO] Updated LV0 header: dark004_004.fits\n",
      "2025-10-27 20:25:47,711 [INFO] Updated LV0 header: CARLOVA_009_20250717091526.fits\n",
      "2025-10-27 20:25:47,754 [INFO] Updated LV0 header: ELENORA_035_20250717062113.fits\n",
      "2025-10-27 20:25:47,795 [INFO] Updated LV0 header: ELENORA_013_20250717054727.fits\n",
      "2025-10-27 20:25:47,836 [INFO] Updated LV0 header: dk01_003.fits\n",
      "2025-10-27 20:25:47,878 [INFO] Updated LV0 header: dark090_003.fits\n",
      "2025-10-27 20:25:47,919 [INFO] Updated LV0 header: dark007_001.fits\n",
      "2025-10-27 20:25:47,960 [INFO] Updated LV0 header: dark006_001.fits\n",
      "2025-10-27 20:25:48,018 [INFO] Updated LV0 header: dark004_008.fits\n",
      "2025-10-27 20:25:48,059 [INFO] Updated LV0 header: dk05_001.fits\n",
      "2025-10-27 20:25:48,103 [INFO] Updated LV0 header: ELENORA_011_20250717054422.fits\n",
      "2025-10-27 20:25:48,148 [INFO] Updated LV0 header: bias_007.fits\n",
      "2025-10-27 20:25:48,193 [INFO] Updated LV0 header: dark008_003.fits\n",
      "2025-10-27 20:25:48,239 [INFO] Updated LV0 header: dk03_006.fits\n",
      "2025-10-27 20:25:48,284 [INFO] Updated LV0 header: dk02_006.fits\n",
      "2025-10-27 20:25:48,327 [INFO] Updated LV0 header: dark090_004.fits\n",
      "2025-10-27 20:25:48,369 [INFO] Updated LV0 header: dk01_004.fits\n",
      "2025-10-27 20:25:48,413 [INFO] Updated LV0 header: ELENORA_019_20250717055639.fits\n",
      "2025-10-27 20:25:48,454 [INFO] Updated LV0 header: dark008_008.fits\n",
      "2025-10-27 20:25:48,500 [INFO] Updated LV0 header: ELENORA_020_20250717055811.fits\n",
      "2025-10-27 20:25:48,541 [INFO] Updated LV0 header: ELENORA_030_20250717061332.fits\n",
      "2025-10-27 20:25:48,585 [INFO] Updated LV0 header: ELENORA_018_20250717055506.fits\n",
      "2025-10-27 20:25:48,627 [INFO] Updated LV0 header: dark004_003.fits\n",
      "2025-10-27 20:25:48,671 [INFO] Updated LV0 header: dk01_008.fits\n",
      "2025-10-27 20:25:48,716 [INFO] Updated LV0 header: dk02_001.fits\n",
      "2025-10-27 20:25:48,765 [INFO] Updated LV0 header: dk03_001.fits\n",
      "2025-10-27 20:25:48,812 [INFO] Updated LV0 header: dark090_008.fits\n",
      "2025-10-27 20:25:48,854 [INFO] Updated LV0 header: dark008_004.fits\n",
      "2025-10-27 20:25:48,897 [INFO] Updated LV0 header: ELENORA_029_20250717061200.fits\n",
      "2025-10-27 20:25:48,942 [INFO] Updated LV0 header: ELENORA_036_20250717062246.fits\n",
      "2025-10-27 20:25:48,994 [INFO] Updated LV0 header: ELENORA_024_20250717060420.fits\n",
      "2025-10-27 20:25:49,043 [INFO] Updated LV0 header: dk05_006.fits\n",
      "2025-10-27 20:25:49,091 [INFO] Updated LV0 header: dark006_006.fits\n",
      "2025-10-27 20:25:49,137 [INFO] Updated LV0 header: dark007_006.fits\n",
      "2025-10-27 20:25:49,187 [INFO] Updated LV0 header: dark006_007.fits\n",
      "2025-10-27 20:25:49,228 [INFO] Updated LV0 header: dark007_007.fits\n",
      "2025-10-27 20:25:49,270 [INFO] Updated LV0 header: CARLOVA_018_20250717092916.fits\n",
      "2025-10-27 20:25:49,312 [INFO] Updated LV0 header: dk05_007.fits\n",
      "2025-10-27 20:25:49,354 [INFO] Updated LV0 header: ELENORA_027_20250717060856.fits\n",
      "2025-10-27 20:25:49,399 [INFO] Updated LV0 header: dark008_005.fits\n",
      "2025-10-27 20:25:49,443 [INFO] Updated LV0 header: dark090_009.fits\n",
      "2025-10-27 20:25:49,487 [INFO] Updated LV0 header: dk01_009.fits\n",
      "2025-10-27 20:25:49,534 [INFO] Updated LV0 header: ELENORA_039_20250717062722.fits\n",
      "2025-10-27 20:25:49,580 [INFO] Updated LV0 header: dark004_002.fits\n",
      "2025-10-27 20:25:49,625 [INFO] Updated LV0 header: CARLOVA_002_20250717090442.fits\n",
      "2025-10-27 20:25:49,671 [INFO] Updated LV0 header: ELENORA_016_20250717055202.fits\n",
      "2025-10-27 20:25:49,717 [INFO] Updated LV0 header: CARLOVA_003_20250717090614.fits\n",
      "2025-10-27 20:25:49,761 [INFO] Updated LV0 header: ELENORA_025_20250717060552.fits\n",
      "2025-10-27 20:25:49,807 [INFO] Updated LV0 header: ELENORA_026_20250717060724.fits\n",
      "2025-10-27 20:25:49,851 [INFO] Updated LV0 header: ELENORA_021_20250717055943.fits\n",
      "2025-10-27 20:25:49,894 [INFO] Updated LV0 header: dark008_009.fits\n",
      "2025-10-27 20:25:49,938 [INFO] Updated LV0 header: ELENORA_022_20250717060115.fits\n",
      "2025-10-27 20:25:49,981 [INFO] Updated LV0 header: CARLOVA_004_20250717090746.fits\n",
      "2025-10-27 20:25:50,028 [INFO] Updated LV0 header: dk01_005.fits\n",
      "2025-10-27 20:25:50,073 [INFO] Updated LV0 header: CARLOVA_015_20250717092439.fits\n",
      "2025-10-27 20:25:50,119 [INFO] Updated LV0 header: ELENORA_023_20250717060247.fits\n",
      "2025-10-27 20:25:50,165 [INFO] Updated LV0 header: dark090_005.fits\n",
      "2025-10-27 20:25:50,209 [INFO] Updated LV0 header: dark004_001.fits\n",
      "2025-10-27 20:25:50,252 [INFO] Updated LV0 header: dark006_008.fits\n",
      "2025-10-27 20:25:50,296 [INFO] Updated LV0 header: dark007_008.fits\n",
      "2025-10-27 20:25:50,338 [INFO] Updated LV0 header: dk05_008.fits\n",
      "2025-10-27 20:25:50,384 [INFO] Updated LV0 header: dk01_006.fits\n",
      "2025-10-27 20:25:50,426 [INFO] Updated LV0 header: dark090_006.fits\n",
      "2025-10-27 20:25:50,471 [INFO] Updated LV0 header: dark007_004.fits\n",
      "2025-10-27 20:25:50,513 [INFO] Updated LV0 header: dark006_004.fits\n",
      "2025-10-27 20:25:50,554 [INFO] Updated LV0 header: dk05_004.fits\n",
      "2025-10-27 20:25:50,595 [INFO] Updated LV0 header: CARLOVA_006_20250717091050.fits\n",
      "2025-10-27 20:25:50,637 [INFO] Updated LV0 header: bias_002.fits\n",
      "2025-10-27 20:25:50,678 [INFO] Updated LV0 header: dark008_006.fits\n",
      "2025-10-27 20:25:50,720 [INFO] Updated LV0 header: CARLOVA_017_20250717092744.fits\n",
      "2025-10-27 20:25:50,760 [INFO] Updated LV0 header: CARLOVA_013_20250717092134.fits\n",
      "2025-10-27 20:25:50,837 [INFO] Updated LV0 header: dk03_003.fits\n",
      "2025-10-27 20:25:50,881 [INFO] Updated LV0 header: dk02_003.fits\n",
      "2025-10-27 20:25:50,964 [INFO] Updated LV0 header: dk03_002.fits\n",
      "2025-10-27 20:25:51,007 [INFO] Updated LV0 header: dk02_002.fits\n",
      "2025-10-27 20:25:51,051 [INFO] Updated LV0 header: ELENORA_033_20250717061809.fits\n",
      "2025-10-27 20:25:51,095 [INFO] Updated LV0 header: dark008_007.fits\n",
      "2025-10-27 20:25:51,137 [INFO] Updated LV0 header: bias_003.fits\n",
      "2025-10-27 20:25:51,193 [INFO] Updated LV0 header: dk05_005.fits\n",
      "2025-10-27 20:25:51,234 [INFO] Updated LV0 header: ELENORA_012_20250717054555.fits\n",
      "2025-10-27 20:25:51,277 [INFO] Updated LV0 header: dark007_005.fits\n",
      "2025-10-27 20:25:51,318 [INFO] Updated LV0 header: dark006_005.fits\n",
      "2025-10-27 20:25:51,371 [INFO] Updated LV0 header: dark090_007.fits\n",
      "2025-10-27 20:25:51,412 [INFO] Updated LV0 header: dk01_007.fits\n",
      "2025-10-27 20:25:51,454 [INFO] Updated LV0 header: CARLOVA_011_20250717091830.fits\n",
      "2025-10-27 20:25:51,496 [INFO] Updated LV0 header: ELENORA_008_20250717053947.fits\n",
      "2025-10-27 20:25:51,540 [INFO] Updated LV0 header: ELENORA_037_20250717062418.fits\n",
      "2025-10-27 20:25:51,586 [INFO] Updated LV0 header: dk05_009.fits\n",
      "2025-10-27 20:25:51,629 [INFO] Updated LV0 header: ELENORA_034_20250717061941.fits\n",
      "2025-10-27 20:25:51,672 [INFO] Updated LV0 header: dark006_009.fits\n",
      "2025-10-27 20:25:51,716 [INFO] Updated LV0 header: dark007_009.fits\n",
      "2025-10-27 20:25:51,760 [INFO] Updated LV0 header: ELENORA_001_20250717052901.fits\n",
      "2025-10-27 20:25:51,803 [INFO] Updated LV0 header: dark006_002.fits\n",
      "2025-10-27 20:25:51,845 [INFO] Updated LV0 header: dark007_002.fits\n",
      "2025-10-27 20:25:51,888 [INFO] Updated LV0 header: ELENORA_003_20250717053205.fits\n",
      "2025-10-27 20:25:51,930 [INFO] Updated LV0 header: dk05_002.fits\n",
      "2025-10-27 20:25:51,970 [INFO] Updated LV0 header: ELENORA_017_20250717055335.fits\n",
      "2025-10-27 20:25:52,013 [INFO] Updated LV0 header: CARLOVA_016_20250717092611.fits\n",
      "2025-10-27 20:25:52,055 [INFO] Updated LV0 header: bias_004.fits\n",
      "2025-10-27 20:25:52,097 [INFO] Updated LV0 header: CARLOVA_008_20250717091354.fits\n",
      "2025-10-27 20:25:52,139 [INFO] Updated LV0 header: ELENORA_005_20250717053510.fits\n",
      "2025-10-27 20:25:52,190 [INFO] Updated LV0 header: dk02_005.fits\n",
      "2025-10-27 20:25:52,231 [INFO] Updated LV0 header: dk03_005.fits\n",
      "2025-10-27 20:25:52,273 [INFO] Updated LV0 header: dark004_007.fits\n",
      "2025-10-27 20:25:52,314 [INFO] Updated LV0 header: bias_008.fits\n",
      "2025-10-27 20:25:52,357 [INFO] Updated LV0 header: ELENORA_007_20250717053814.fits\n",
      "2025-10-27 20:25:52,399 [INFO] Updated LV0 header: ELENORA_015_20250717055030.fits\n",
      "2025-10-27 20:25:52,442 [INFO] Updated LV0 header: ELENORA_006_20250717053642.fits\n",
      "2025-10-27 20:25:52,491 [INFO] Updated LV0 header: dk03_009.fits\n",
      "2025-10-27 20:25:52,533 [INFO] Updated LV0 header: dk02_009.fits\n",
      "2025-10-27 20:25:52,577 [INFO] Updated LV0 header: dark090_001.fits\n",
      "2025-10-27 20:25:52,655 [INFO] Updated LV0 header: dk03_008.fits\n",
      "2025-10-27 20:25:52,697 [INFO] Updated LV0 header: dk02_008.fits\n",
      "2025-10-27 20:25:52,740 [INFO] Updated LV0 header: dk01_001.fits\n",
      "2025-10-27 20:25:52,783 [INFO] Updated LV0 header: ELENORA_002_20250717053033.fits\n",
      "2025-10-27 20:25:52,824 [INFO] Updated LV0 header: bias_009.fits\n",
      "2025-10-27 20:25:52,911 [INFO] Updated LV0 header: ELENORA_010_20250717054251.fits\n",
      "2025-10-27 20:25:52,952 [INFO] Updated LV0 header: ELENORA_004_20250717053337.fits\n",
      "2025-10-27 20:25:52,995 [INFO] Updated LV0 header: dark004_006.fits\n",
      "2025-10-27 20:25:53,037 [INFO] Updated LV0 header: dk02_004.fits\n",
      "2025-10-27 20:25:53,081 [INFO] Updated LV0 header: dk03_004.fits\n",
      "2025-10-27 20:25:53,123 [INFO] Updated LV0 header: ELENORA_038_20250717062550.fits\n",
      "2025-10-27 20:25:53,185 [INFO] Updated LV0 header: CARLOVA_005_20250717090918.fits\n",
      "2025-10-27 20:25:53,226 [INFO] Updated LV0 header: dark008_001.fits\n",
      "2025-10-27 20:25:53,271 [INFO] Updated LV0 header: bias_005.fits\n",
      "2025-10-27 20:25:53,312 [INFO] Updated LV0 header: ELENORA_009_20250717054119.fits\n",
      "2025-10-27 20:25:53,355 [INFO] Updated LV0 header: ELENORA_028_20250717061028.fits\n",
      "2025-10-27 20:25:53,440 [INFO] Updated LV0 header: dk05_003.fits\n",
      "2025-10-27 20:25:53,484 [INFO] Updated LV0 header: dark006_003.fits\n",
      "2025-10-27 20:25:53,526 [INFO] Updated LV0 header: dark007_003.fits\n"
     ]
    }
   ],
   "source": [
    "# Step 2: Lv0 Header Update\n",
    "logger.info(\"--- Step 2: Lv0 Header Update ---\")\n",
    "lv0 = solopy.Lv0(log_file=fpath_log_lv0)\n",
    "\n",
    "fpaths_fits = list(LV0_subdir.glob(\"*.fits\"))\n",
    "if not fpaths_fits:\n",
    "    raise FileNotFoundError(f\"No .fits files found in {LV0_subdir}.\")\n",
    "\n",
    "for fpath in fpaths_fits:\n",
    "    lv0.update_header(fpath) # Update header in-place"
   ]
  },
  {
   "cell_type": "code",
   "execution_count": 7,
   "id": "1ed5dc82",
   "metadata": {},
   "outputs": [
    {
     "name": "stderr",
     "output_type": "stream",
     "text": [
      "2025-10-27 20:25:57,412 [INFO] --- Step 3: CombMaster Frame Generation ---\n",
      "2025-10-27 20:25:57,621 [INFO] Starting master bias combination...\n",
      "2025-10-27 20:25:57,622 [INFO] Loading 8 frames...\n",
      "2025-10-27 20:25:57,640 [INFO] using the unit adu passed to the FITS reader instead of the unit adu in the FITS file.\n",
      "2025-10-27 20:25:57,658 [INFO] using the unit adu passed to the FITS reader instead of the unit adu in the FITS file.\n",
      "2025-10-27 20:25:57,674 [INFO] using the unit adu passed to the FITS reader instead of the unit adu in the FITS file.\n",
      "2025-10-27 20:25:57,691 [INFO] using the unit adu passed to the FITS reader instead of the unit adu in the FITS file.\n",
      "2025-10-27 20:25:57,711 [INFO] using the unit adu passed to the FITS reader instead of the unit adu in the FITS file.\n",
      "2025-10-27 20:25:57,732 [INFO] using the unit adu passed to the FITS reader instead of the unit adu in the FITS file.\n",
      "2025-10-27 20:25:57,752 [INFO] using the unit adu passed to the FITS reader instead of the unit adu in the FITS file.\n",
      "2025-10-27 20:25:57,772 [INFO] using the unit adu passed to the FITS reader instead of the unit adu in the FITS file.\n",
      "2025-10-27 20:25:57,774 [INFO] Combining 8 bias CCDData objects...\n",
      "2025-10-27 20:25:57,814 [INFO] splitting each image into 10 chunks to limit memory usage to 500000000.0 bytes.\n"
     ]
    },
    {
     "name": "stdout",
     "output_type": "stream",
     "text": [
      "INFO: using the unit adu passed to the FITS reader instead of the unit adu in the FITS file. [astropy.nddata.ccddata]\n",
      "INFO: using the unit adu passed to the FITS reader instead of the unit adu in the FITS file. [astropy.nddata.ccddata]\n",
      "INFO: using the unit adu passed to the FITS reader instead of the unit adu in the FITS file. [astropy.nddata.ccddata]\n",
      "INFO: using the unit adu passed to the FITS reader instead of the unit adu in the FITS file. [astropy.nddata.ccddata]\n",
      "INFO: using the unit adu passed to the FITS reader instead of the unit adu in the FITS file. [astropy.nddata.ccddata]\n",
      "INFO: using the unit adu passed to the FITS reader instead of the unit adu in the FITS file. [astropy.nddata.ccddata]\n",
      "INFO: using the unit adu passed to the FITS reader instead of the unit adu in the FITS file. [astropy.nddata.ccddata]\n",
      "INFO: using the unit adu passed to the FITS reader instead of the unit adu in the FITS file. [astropy.nddata.ccddata]\n",
      "INFO: splitting each image into 10 chunks to limit memory usage to 500000000.0 bytes. [ccdproc.combiner]\n"
     ]
    },
    {
     "name": "stderr",
     "output_type": "stream",
     "text": [
      "2025-10-27 20:26:08,390 [INFO] Master bias saved to kl4040.bias.comb.20250717.fits\n",
      "2025-10-27 20:26:08,509 [INFO] Starting master dark creation...\n",
      "2025-10-27 20:26:08,527 [INFO] Loading 81 frames...\n",
      "2025-10-27 20:26:08,545 [INFO] using the unit adu passed to the FITS reader instead of the unit adu in the FITS file.\n",
      "2025-10-27 20:26:08,562 [INFO] using the unit adu passed to the FITS reader instead of the unit adu in the FITS file.\n",
      "2025-10-27 20:26:08,580 [INFO] using the unit adu passed to the FITS reader instead of the unit adu in the FITS file.\n",
      "2025-10-27 20:26:08,639 [INFO] using the unit adu passed to the FITS reader instead of the unit adu in the FITS file.\n",
      "2025-10-27 20:26:08,666 [INFO] using the unit adu passed to the FITS reader instead of the unit adu in the FITS file.\n",
      "2025-10-27 20:26:08,682 [INFO] using the unit adu passed to the FITS reader instead of the unit adu in the FITS file.\n",
      "2025-10-27 20:26:08,699 [INFO] using the unit adu passed to the FITS reader instead of the unit adu in the FITS file.\n",
      "2025-10-27 20:26:08,728 [INFO] using the unit adu passed to the FITS reader instead of the unit adu in the FITS file.\n"
     ]
    },
    {
     "name": "stdout",
     "output_type": "stream",
     "text": [
      "INFO: using the unit adu passed to the FITS reader instead of the unit adu in the FITS file. [astropy.nddata.ccddata]\n",
      "INFO: using the unit adu passed to the FITS reader instead of the unit adu in the FITS file. [astropy.nddata.ccddata]\n",
      "INFO: using the unit adu passed to the FITS reader instead of the unit adu in the FITS file. [astropy.nddata.ccddata]\n",
      "INFO: using the unit adu passed to the FITS reader instead of the unit adu in the FITS file. [astropy.nddata.ccddata]\n",
      "INFO: using the unit adu passed to the FITS reader instead of the unit adu in the FITS file. [astropy.nddata.ccddata]\n",
      "INFO: using the unit adu passed to the FITS reader instead of the unit adu in the FITS file. [astropy.nddata.ccddata]\n",
      "INFO: using the unit adu passed to the FITS reader instead of the unit adu in the FITS file. [astropy.nddata.ccddata]\n",
      "INFO: using the unit adu passed to the FITS reader instead of the unit adu in the FITS file. [astropy.nddata.ccddata]\n"
     ]
    },
    {
     "name": "stderr",
     "output_type": "stream",
     "text": [
      "2025-10-27 20:26:08,752 [INFO] using the unit adu passed to the FITS reader instead of the unit adu in the FITS file.\n",
      "2025-10-27 20:26:08,770 [INFO] using the unit adu passed to the FITS reader instead of the unit adu in the FITS file.\n",
      "2025-10-27 20:26:08,786 [INFO] using the unit adu passed to the FITS reader instead of the unit adu in the FITS file.\n",
      "2025-10-27 20:26:08,803 [INFO] using the unit adu passed to the FITS reader instead of the unit adu in the FITS file.\n",
      "2025-10-27 20:26:08,821 [INFO] using the unit adu passed to the FITS reader instead of the unit adu in the FITS file.\n",
      "2025-10-27 20:26:08,839 [INFO] using the unit adu passed to the FITS reader instead of the unit adu in the FITS file.\n",
      "2025-10-27 20:26:08,857 [INFO] using the unit adu passed to the FITS reader instead of the unit adu in the FITS file.\n",
      "2025-10-27 20:26:08,874 [INFO] using the unit adu passed to the FITS reader instead of the unit adu in the FITS file.\n",
      "2025-10-27 20:26:08,892 [INFO] using the unit adu passed to the FITS reader instead of the unit adu in the FITS file.\n",
      "2025-10-27 20:26:08,912 [INFO] using the unit adu passed to the FITS reader instead of the unit adu in the FITS file.\n",
      "2025-10-27 20:26:08,931 [INFO] using the unit adu passed to the FITS reader instead of the unit adu in the FITS file.\n",
      "2025-10-27 20:26:08,950 [INFO] using the unit adu passed to the FITS reader instead of the unit adu in the FITS file.\n"
     ]
    },
    {
     "name": "stdout",
     "output_type": "stream",
     "text": [
      "INFO: using the unit adu passed to the FITS reader instead of the unit adu in the FITS file. [astropy.nddata.ccddata]\n",
      "INFO: using the unit adu passed to the FITS reader instead of the unit adu in the FITS file. [astropy.nddata.ccddata]\n",
      "INFO: using the unit adu passed to the FITS reader instead of the unit adu in the FITS file. [astropy.nddata.ccddata]\n",
      "INFO: using the unit adu passed to the FITS reader instead of the unit adu in the FITS file. [astropy.nddata.ccddata]\n",
      "INFO: using the unit adu passed to the FITS reader instead of the unit adu in the FITS file. [astropy.nddata.ccddata]\n",
      "INFO: using the unit adu passed to the FITS reader instead of the unit adu in the FITS file. [astropy.nddata.ccddata]\n",
      "INFO: using the unit adu passed to the FITS reader instead of the unit adu in the FITS file. [astropy.nddata.ccddata]\n",
      "INFO: using the unit adu passed to the FITS reader instead of the unit adu in the FITS file. [astropy.nddata.ccddata]\n",
      "INFO: using the unit adu passed to the FITS reader instead of the unit adu in the FITS file. [astropy.nddata.ccddata]\n",
      "INFO: using the unit adu passed to the FITS reader instead of the unit adu in the FITS file. [astropy.nddata.ccddata]\n",
      "INFO: using the unit adu passed to the FITS reader instead of the unit adu in the FITS file. [astropy.nddata.ccddata]\n",
      "INFO: using the unit adu passed to the FITS reader instead of the unit adu in the FITS file. [astropy.nddata.ccddata]\n"
     ]
    },
    {
     "name": "stderr",
     "output_type": "stream",
     "text": [
      "2025-10-27 20:26:08,970 [INFO] using the unit adu passed to the FITS reader instead of the unit adu in the FITS file.\n",
      "2025-10-27 20:26:08,989 [INFO] using the unit adu passed to the FITS reader instead of the unit adu in the FITS file.\n",
      "2025-10-27 20:26:09,009 [INFO] using the unit adu passed to the FITS reader instead of the unit adu in the FITS file.\n",
      "2025-10-27 20:26:09,030 [INFO] using the unit adu passed to the FITS reader instead of the unit adu in the FITS file.\n",
      "2025-10-27 20:26:09,053 [INFO] using the unit adu passed to the FITS reader instead of the unit adu in the FITS file.\n",
      "2025-10-27 20:26:09,072 [INFO] using the unit adu passed to the FITS reader instead of the unit adu in the FITS file.\n",
      "2025-10-27 20:26:09,091 [INFO] using the unit adu passed to the FITS reader instead of the unit adu in the FITS file.\n",
      "2025-10-27 20:26:09,111 [INFO] using the unit adu passed to the FITS reader instead of the unit adu in the FITS file.\n",
      "2025-10-27 20:26:09,160 [INFO] using the unit adu passed to the FITS reader instead of the unit adu in the FITS file.\n"
     ]
    },
    {
     "name": "stdout",
     "output_type": "stream",
     "text": [
      "INFO: using the unit adu passed to the FITS reader instead of the unit adu in the FITS file. [astropy.nddata.ccddata]\n",
      "INFO: using the unit adu passed to the FITS reader instead of the unit adu in the FITS file. [astropy.nddata.ccddata]\n",
      "INFO: using the unit adu passed to the FITS reader instead of the unit adu in the FITS file. [astropy.nddata.ccddata]\n",
      "INFO: using the unit adu passed to the FITS reader instead of the unit adu in the FITS file. [astropy.nddata.ccddata]\n",
      "INFO: using the unit adu passed to the FITS reader instead of the unit adu in the FITS file. [astropy.nddata.ccddata]\n",
      "INFO: using the unit adu passed to the FITS reader instead of the unit adu in the FITS file. [astropy.nddata.ccddata]\n",
      "INFO: using the unit adu passed to the FITS reader instead of the unit adu in the FITS file. [astropy.nddata.ccddata]\n",
      "INFO: using the unit adu passed to the FITS reader instead of the unit adu in the FITS file. [astropy.nddata.ccddata]\n",
      "INFO: using the unit adu passed to the FITS reader instead of the unit adu in the FITS file. [astropy.nddata.ccddata]\n"
     ]
    },
    {
     "name": "stderr",
     "output_type": "stream",
     "text": [
      "2025-10-27 20:26:09,180 [INFO] using the unit adu passed to the FITS reader instead of the unit adu in the FITS file.\n",
      "2025-10-27 20:26:09,199 [INFO] using the unit adu passed to the FITS reader instead of the unit adu in the FITS file.\n",
      "2025-10-27 20:26:09,219 [INFO] using the unit adu passed to the FITS reader instead of the unit adu in the FITS file.\n",
      "2025-10-27 20:26:09,239 [INFO] using the unit adu passed to the FITS reader instead of the unit adu in the FITS file.\n",
      "2025-10-27 20:26:09,259 [INFO] using the unit adu passed to the FITS reader instead of the unit adu in the FITS file.\n",
      "2025-10-27 20:26:09,277 [INFO] using the unit adu passed to the FITS reader instead of the unit adu in the FITS file.\n",
      "2025-10-27 20:26:09,298 [INFO] using the unit adu passed to the FITS reader instead of the unit adu in the FITS file.\n",
      "2025-10-27 20:26:09,316 [INFO] using the unit adu passed to the FITS reader instead of the unit adu in the FITS file.\n",
      "2025-10-27 20:26:09,337 [INFO] using the unit adu passed to the FITS reader instead of the unit adu in the FITS file.\n",
      "2025-10-27 20:26:09,364 [INFO] using the unit adu passed to the FITS reader instead of the unit adu in the FITS file.\n"
     ]
    },
    {
     "name": "stdout",
     "output_type": "stream",
     "text": [
      "INFO: using the unit adu passed to the FITS reader instead of the unit adu in the FITS file. [astropy.nddata.ccddata]\n",
      "INFO: using the unit adu passed to the FITS reader instead of the unit adu in the FITS file. [astropy.nddata.ccddata]\n",
      "INFO: using the unit adu passed to the FITS reader instead of the unit adu in the FITS file. [astropy.nddata.ccddata]\n",
      "INFO: using the unit adu passed to the FITS reader instead of the unit adu in the FITS file. [astropy.nddata.ccddata]\n",
      "INFO: using the unit adu passed to the FITS reader instead of the unit adu in the FITS file. [astropy.nddata.ccddata]\n",
      "INFO: using the unit adu passed to the FITS reader instead of the unit adu in the FITS file. [astropy.nddata.ccddata]\n",
      "INFO: using the unit adu passed to the FITS reader instead of the unit adu in the FITS file. [astropy.nddata.ccddata]\n",
      "INFO: using the unit adu passed to the FITS reader instead of the unit adu in the FITS file. [astropy.nddata.ccddata]\n",
      "INFO: using the unit adu passed to the FITS reader instead of the unit adu in the FITS file. [astropy.nddata.ccddata]\n",
      "INFO: using the unit adu passed to the FITS reader instead of the unit adu in the FITS file. [astropy.nddata.ccddata]\n"
     ]
    },
    {
     "name": "stderr",
     "output_type": "stream",
     "text": [
      "2025-10-27 20:26:09,385 [INFO] using the unit adu passed to the FITS reader instead of the unit adu in the FITS file.\n",
      "2025-10-27 20:26:09,406 [INFO] using the unit adu passed to the FITS reader instead of the unit adu in the FITS file.\n",
      "2025-10-27 20:26:09,425 [INFO] using the unit adu passed to the FITS reader instead of the unit adu in the FITS file.\n",
      "2025-10-27 20:26:09,446 [INFO] using the unit adu passed to the FITS reader instead of the unit adu in the FITS file.\n",
      "2025-10-27 20:26:09,468 [INFO] using the unit adu passed to the FITS reader instead of the unit adu in the FITS file.\n",
      "2025-10-27 20:26:09,511 [INFO] using the unit adu passed to the FITS reader instead of the unit adu in the FITS file.\n",
      "2025-10-27 20:26:09,531 [INFO] using the unit adu passed to the FITS reader instead of the unit adu in the FITS file.\n",
      "2025-10-27 20:26:09,550 [INFO] using the unit adu passed to the FITS reader instead of the unit adu in the FITS file.\n",
      "2025-10-27 20:26:09,570 [INFO] using the unit adu passed to the FITS reader instead of the unit adu in the FITS file.\n"
     ]
    },
    {
     "name": "stdout",
     "output_type": "stream",
     "text": [
      "INFO: using the unit adu passed to the FITS reader instead of the unit adu in the FITS file. [astropy.nddata.ccddata]\n",
      "INFO: using the unit adu passed to the FITS reader instead of the unit adu in the FITS file. [astropy.nddata.ccddata]\n",
      "INFO: using the unit adu passed to the FITS reader instead of the unit adu in the FITS file. [astropy.nddata.ccddata]\n",
      "INFO: using the unit adu passed to the FITS reader instead of the unit adu in the FITS file. [astropy.nddata.ccddata]\n",
      "INFO: using the unit adu passed to the FITS reader instead of the unit adu in the FITS file. [astropy.nddata.ccddata]\n",
      "INFO: using the unit adu passed to the FITS reader instead of the unit adu in the FITS file. [astropy.nddata.ccddata]\n",
      "INFO: using the unit adu passed to the FITS reader instead of the unit adu in the FITS file. [astropy.nddata.ccddata]\n",
      "INFO: using the unit adu passed to the FITS reader instead of the unit adu in the FITS file. [astropy.nddata.ccddata]\n",
      "INFO: using the unit adu passed to the FITS reader instead of the unit adu in the FITS file. [astropy.nddata.ccddata]\n"
     ]
    },
    {
     "name": "stderr",
     "output_type": "stream",
     "text": [
      "2025-10-27 20:26:09,593 [INFO] using the unit adu passed to the FITS reader instead of the unit adu in the FITS file.\n",
      "2025-10-27 20:26:09,612 [INFO] using the unit adu passed to the FITS reader instead of the unit adu in the FITS file.\n",
      "2025-10-27 20:26:09,630 [INFO] using the unit adu passed to the FITS reader instead of the unit adu in the FITS file.\n",
      "2025-10-27 20:26:09,651 [INFO] using the unit adu passed to the FITS reader instead of the unit adu in the FITS file.\n",
      "2025-10-27 20:26:09,674 [INFO] using the unit adu passed to the FITS reader instead of the unit adu in the FITS file.\n",
      "2025-10-27 20:26:09,736 [INFO] using the unit adu passed to the FITS reader instead of the unit adu in the FITS file.\n",
      "2025-10-27 20:26:09,755 [INFO] using the unit adu passed to the FITS reader instead of the unit adu in the FITS file.\n"
     ]
    },
    {
     "name": "stdout",
     "output_type": "stream",
     "text": [
      "INFO: using the unit adu passed to the FITS reader instead of the unit adu in the FITS file. [astropy.nddata.ccddata]\n",
      "INFO: using the unit adu passed to the FITS reader instead of the unit adu in the FITS file. [astropy.nddata.ccddata]\n",
      "INFO: using the unit adu passed to the FITS reader instead of the unit adu in the FITS file. [astropy.nddata.ccddata]\n",
      "INFO: using the unit adu passed to the FITS reader instead of the unit adu in the FITS file. [astropy.nddata.ccddata]\n",
      "INFO: using the unit adu passed to the FITS reader instead of the unit adu in the FITS file. [astropy.nddata.ccddata]\n",
      "INFO: using the unit adu passed to the FITS reader instead of the unit adu in the FITS file. [astropy.nddata.ccddata]\n",
      "INFO: using the unit adu passed to the FITS reader instead of the unit adu in the FITS file. [astropy.nddata.ccddata]\n"
     ]
    },
    {
     "name": "stderr",
     "output_type": "stream",
     "text": [
      "2025-10-27 20:26:09,833 [INFO] using the unit adu passed to the FITS reader instead of the unit adu in the FITS file.\n",
      "2025-10-27 20:26:09,903 [INFO] using the unit adu passed to the FITS reader instead of the unit adu in the FITS file.\n",
      "2025-10-27 20:26:09,924 [INFO] using the unit adu passed to the FITS reader instead of the unit adu in the FITS file.\n",
      "2025-10-27 20:26:09,944 [INFO] using the unit adu passed to the FITS reader instead of the unit adu in the FITS file.\n",
      "2025-10-27 20:26:09,966 [INFO] using the unit adu passed to the FITS reader instead of the unit adu in the FITS file.\n",
      "2025-10-27 20:26:09,988 [INFO] using the unit adu passed to the FITS reader instead of the unit adu in the FITS file.\n",
      "2025-10-27 20:26:10,008 [INFO] using the unit adu passed to the FITS reader instead of the unit adu in the FITS file.\n",
      "2025-10-27 20:26:10,026 [INFO] using the unit adu passed to the FITS reader instead of the unit adu in the FITS file.\n"
     ]
    },
    {
     "name": "stdout",
     "output_type": "stream",
     "text": [
      "INFO: using the unit adu passed to the FITS reader instead of the unit adu in the FITS file. [astropy.nddata.ccddata]\n",
      "INFO: using the unit adu passed to the FITS reader instead of the unit adu in the FITS file. [astropy.nddata.ccddata]\n",
      "INFO: using the unit adu passed to the FITS reader instead of the unit adu in the FITS file. [astropy.nddata.ccddata]\n",
      "INFO: using the unit adu passed to the FITS reader instead of the unit adu in the FITS file. [astropy.nddata.ccddata]\n",
      "INFO: using the unit adu passed to the FITS reader instead of the unit adu in the FITS file. [astropy.nddata.ccddata]\n",
      "INFO: using the unit adu passed to the FITS reader instead of the unit adu in the FITS file. [astropy.nddata.ccddata]\n",
      "INFO: using the unit adu passed to the FITS reader instead of the unit adu in the FITS file. [astropy.nddata.ccddata]\n",
      "INFO: using the unit adu passed to the FITS reader instead of the unit adu in the FITS file. [astropy.nddata.ccddata]\n"
     ]
    },
    {
     "name": "stderr",
     "output_type": "stream",
     "text": [
      "2025-10-27 20:26:10,046 [INFO] using the unit adu passed to the FITS reader instead of the unit adu in the FITS file.\n",
      "2025-10-27 20:26:10,110 [INFO] using the unit adu passed to the FITS reader instead of the unit adu in the FITS file.\n",
      "2025-10-27 20:26:10,178 [INFO] using the unit adu passed to the FITS reader instead of the unit adu in the FITS file.\n",
      "2025-10-27 20:26:10,199 [INFO] using the unit adu passed to the FITS reader instead of the unit adu in the FITS file.\n",
      "2025-10-27 20:26:10,216 [INFO] using the unit adu passed to the FITS reader instead of the unit adu in the FITS file.\n",
      "2025-10-27 20:26:10,233 [INFO] using the unit adu passed to the FITS reader instead of the unit adu in the FITS file.\n"
     ]
    },
    {
     "name": "stdout",
     "output_type": "stream",
     "text": [
      "INFO: using the unit adu passed to the FITS reader instead of the unit adu in the FITS file. [astropy.nddata.ccddata]\n",
      "INFO: using the unit adu passed to the FITS reader instead of the unit adu in the FITS file. [astropy.nddata.ccddata]\n",
      "INFO: using the unit adu passed to the FITS reader instead of the unit adu in the FITS file. [astropy.nddata.ccddata]\n",
      "INFO: using the unit adu passed to the FITS reader instead of the unit adu in the FITS file. [astropy.nddata.ccddata]\n",
      "INFO: using the unit adu passed to the FITS reader instead of the unit adu in the FITS file. [astropy.nddata.ccddata]\n",
      "INFO: using the unit adu passed to the FITS reader instead of the unit adu in the FITS file. [astropy.nddata.ccddata]\n"
     ]
    },
    {
     "name": "stderr",
     "output_type": "stream",
     "text": [
      "2025-10-27 20:26:10,252 [INFO] using the unit adu passed to the FITS reader instead of the unit adu in the FITS file.\n",
      "2025-10-27 20:26:10,273 [INFO] using the unit adu passed to the FITS reader instead of the unit adu in the FITS file.\n",
      "2025-10-27 20:26:10,292 [INFO] using the unit adu passed to the FITS reader instead of the unit adu in the FITS file.\n",
      "2025-10-27 20:26:10,313 [INFO] using the unit adu passed to the FITS reader instead of the unit adu in the FITS file.\n",
      "2025-10-27 20:26:10,374 [INFO] using the unit adu passed to the FITS reader instead of the unit adu in the FITS file.\n",
      "2025-10-27 20:26:10,395 [INFO] using the unit adu passed to the FITS reader instead of the unit adu in the FITS file.\n"
     ]
    },
    {
     "name": "stdout",
     "output_type": "stream",
     "text": [
      "INFO: using the unit adu passed to the FITS reader instead of the unit adu in the FITS file. [astropy.nddata.ccddata]\n",
      "INFO: using the unit adu passed to the FITS reader instead of the unit adu in the FITS file. [astropy.nddata.ccddata]\n",
      "INFO: using the unit adu passed to the FITS reader instead of the unit adu in the FITS file. [astropy.nddata.ccddata]\n",
      "INFO: using the unit adu passed to the FITS reader instead of the unit adu in the FITS file. [astropy.nddata.ccddata]\n",
      "INFO: using the unit adu passed to the FITS reader instead of the unit adu in the FITS file. [astropy.nddata.ccddata]\n",
      "INFO: using the unit adu passed to the FITS reader instead of the unit adu in the FITS file. [astropy.nddata.ccddata]\n"
     ]
    },
    {
     "name": "stderr",
     "output_type": "stream",
     "text": [
      "2025-10-27 20:26:10,459 [INFO] using the unit adu passed to the FITS reader instead of the unit adu in the FITS file.\n",
      "2025-10-27 20:26:10,524 [INFO] using the unit adu passed to the FITS reader instead of the unit adu in the FITS file.\n",
      "2025-10-27 20:26:10,544 [INFO] using the unit adu passed to the FITS reader instead of the unit adu in the FITS file.\n",
      "2025-10-27 20:26:10,612 [INFO] using the unit adu passed to the FITS reader instead of the unit adu in the FITS file.\n"
     ]
    },
    {
     "name": "stdout",
     "output_type": "stream",
     "text": [
      "INFO: using the unit adu passed to the FITS reader instead of the unit adu in the FITS file. [astropy.nddata.ccddata]\n",
      "INFO: using the unit adu passed to the FITS reader instead of the unit adu in the FITS file. [astropy.nddata.ccddata]\n",
      "INFO: using the unit adu passed to the FITS reader instead of the unit adu in the FITS file. [astropy.nddata.ccddata]\n",
      "INFO: using the unit adu passed to the FITS reader instead of the unit adu in the FITS file. [astropy.nddata.ccddata]\n"
     ]
    },
    {
     "name": "stderr",
     "output_type": "stream",
     "text": [
      "2025-10-27 20:26:10,677 [INFO] using the unit adu passed to the FITS reader instead of the unit adu in the FITS file.\n",
      "2025-10-27 20:26:10,736 [INFO] using the unit adu passed to the FITS reader instead of the unit adu in the FITS file.\n"
     ]
    },
    {
     "name": "stdout",
     "output_type": "stream",
     "text": [
      "INFO: using the unit adu passed to the FITS reader instead of the unit adu in the FITS file. [astropy.nddata.ccddata]\n",
      "INFO: using the unit adu passed to the FITS reader instead of the unit adu in the FITS file. [astropy.nddata.ccddata]\n"
     ]
    },
    {
     "name": "stderr",
     "output_type": "stream",
     "text": [
      "2025-10-27 20:26:11,233 [INFO] using the unit adu passed to the FITS reader instead of the unit adu in the FITS file.\n",
      "2025-10-27 20:26:11,234 [INFO] Using master bias: kl4040.bias.comb.20250717.fits\n"
     ]
    },
    {
     "name": "stdout",
     "output_type": "stream",
     "text": [
      "INFO: using the unit adu passed to the FITS reader instead of the unit adu in the FITS file. [astropy.nddata.ccddata]\n"
     ]
    },
    {
     "name": "stderr",
     "output_type": "stream",
     "text": [
      "2025-10-27 20:26:14,043 [INFO] Combining 9 darks for exptime 4.0s...\n",
      "2025-10-27 20:26:14,117 [INFO] splitting each image into 11 chunks to limit memory usage to 500000000.0 bytes.\n"
     ]
    },
    {
     "name": "stdout",
     "output_type": "stream",
     "text": [
      "INFO: splitting each image into 11 chunks to limit memory usage to 500000000.0 bytes. [ccdproc.combiner]\n"
     ]
    },
    {
     "name": "stderr",
     "output_type": "stream",
     "text": [
      "2025-10-27 20:26:27,199 [INFO] Master dark saved to kl4040.dark.4s.comb.20250717.fits\n",
      "2025-10-27 20:26:27,199 [INFO] Combining 9 darks for exptime 6.0s...\n",
      "2025-10-27 20:26:27,270 [INFO] splitting each image into 11 chunks to limit memory usage to 500000000.0 bytes.\n"
     ]
    },
    {
     "name": "stdout",
     "output_type": "stream",
     "text": [
      "INFO: splitting each image into 11 chunks to limit memory usage to 500000000.0 bytes. [ccdproc.combiner]\n"
     ]
    },
    {
     "name": "stderr",
     "output_type": "stream",
     "text": [
      "2025-10-27 20:26:40,357 [INFO] Master dark saved to kl4040.dark.6s.comb.20250717.fits\n",
      "2025-10-27 20:26:40,358 [INFO] Combining 9 darks for exptime 7.0s...\n",
      "2025-10-27 20:26:40,414 [INFO] splitting each image into 11 chunks to limit memory usage to 500000000.0 bytes.\n"
     ]
    },
    {
     "name": "stdout",
     "output_type": "stream",
     "text": [
      "INFO: splitting each image into 11 chunks to limit memory usage to 500000000.0 bytes. [ccdproc.combiner]\n"
     ]
    },
    {
     "name": "stderr",
     "output_type": "stream",
     "text": [
      "2025-10-27 20:26:53,322 [INFO] Master dark saved to kl4040.dark.7s.comb.20250717.fits\n",
      "2025-10-27 20:26:53,323 [INFO] Combining 9 darks for exptime 8.0s...\n",
      "2025-10-27 20:26:53,377 [INFO] splitting each image into 11 chunks to limit memory usage to 500000000.0 bytes.\n"
     ]
    },
    {
     "name": "stdout",
     "output_type": "stream",
     "text": [
      "INFO: splitting each image into 11 chunks to limit memory usage to 500000000.0 bytes. [ccdproc.combiner]\n"
     ]
    },
    {
     "name": "stderr",
     "output_type": "stream",
     "text": [
      "2025-10-27 20:27:06,452 [INFO] Master dark saved to kl4040.dark.8s.comb.20250717.fits\n",
      "2025-10-27 20:27:06,452 [INFO] Combining 9 darks for exptime 90.0s...\n",
      "2025-10-27 20:27:06,508 [INFO] splitting each image into 11 chunks to limit memory usage to 500000000.0 bytes.\n"
     ]
    },
    {
     "name": "stdout",
     "output_type": "stream",
     "text": [
      "INFO: splitting each image into 11 chunks to limit memory usage to 500000000.0 bytes. [ccdproc.combiner]\n"
     ]
    },
    {
     "name": "stderr",
     "output_type": "stream",
     "text": [
      "2025-10-27 20:27:18,623 [INFO] Master dark saved to kl4040.dark.90s.comb.20250717.fits\n",
      "2025-10-27 20:27:18,624 [INFO] Combining 9 darks for exptime 1.0s...\n",
      "2025-10-27 20:27:18,670 [INFO] splitting each image into 11 chunks to limit memory usage to 500000000.0 bytes.\n"
     ]
    },
    {
     "name": "stdout",
     "output_type": "stream",
     "text": [
      "INFO: splitting each image into 11 chunks to limit memory usage to 500000000.0 bytes. [ccdproc.combiner]\n"
     ]
    },
    {
     "name": "stderr",
     "output_type": "stream",
     "text": [
      "2025-10-27 20:27:31,290 [INFO] Master dark saved to kl4040.dark.1s.comb.20250717.fits\n",
      "2025-10-27 20:27:31,290 [INFO] Combining 9 darks for exptime 2.0s...\n",
      "2025-10-27 20:27:31,335 [INFO] splitting each image into 11 chunks to limit memory usage to 500000000.0 bytes.\n"
     ]
    },
    {
     "name": "stdout",
     "output_type": "stream",
     "text": [
      "INFO: splitting each image into 11 chunks to limit memory usage to 500000000.0 bytes. [ccdproc.combiner]\n"
     ]
    },
    {
     "name": "stderr",
     "output_type": "stream",
     "text": [
      "2025-10-27 20:27:43,892 [INFO] Master dark saved to kl4040.dark.2s.comb.20250717.fits\n",
      "2025-10-27 20:27:43,892 [INFO] Combining 9 darks for exptime 3.0s...\n",
      "2025-10-27 20:27:43,937 [INFO] splitting each image into 11 chunks to limit memory usage to 500000000.0 bytes.\n"
     ]
    },
    {
     "name": "stdout",
     "output_type": "stream",
     "text": [
      "INFO: splitting each image into 11 chunks to limit memory usage to 500000000.0 bytes. [ccdproc.combiner]\n"
     ]
    },
    {
     "name": "stderr",
     "output_type": "stream",
     "text": [
      "2025-10-27 20:27:56,534 [INFO] Master dark saved to kl4040.dark.3s.comb.20250717.fits\n",
      "2025-10-27 20:27:56,534 [INFO] Combining 9 darks for exptime 5.0s...\n",
      "2025-10-27 20:27:56,581 [INFO] splitting each image into 11 chunks to limit memory usage to 500000000.0 bytes.\n"
     ]
    },
    {
     "name": "stdout",
     "output_type": "stream",
     "text": [
      "INFO: splitting each image into 11 chunks to limit memory usage to 500000000.0 bytes. [ccdproc.combiner]\n"
     ]
    },
    {
     "name": "stderr",
     "output_type": "stream",
     "text": [
      "2025-10-27 20:28:09,332 [INFO] Master dark saved to kl4040.dark.5s.comb.20250717.fits\n"
     ]
    }
   ],
   "source": [
    "logger.info(\"--- Step 3: CombMaster Frame Generation ---\")\n",
    "comb = solopy.CombMaster(log_file=fpath_log_comb)\n",
    "\n",
    "# Collect all Lv0 fits files\n",
    "all_lv0_fits = ccdproc.ImageFileCollection(LV0_subdir, glob_exclude=\"*.bz2\", glob_include=\"*.fits\")\n",
    "\n",
    "# Master bias\n",
    "bias_files = all_lv0_fits.files_filtered(IMAGETYP=\"BIAS\", include_path=True)\n",
    "if bias_files:\n",
    "    comb.make_mbias(bias_files, MASTERDIR)\n",
    "    \n",
    "# Master dark\n",
    "dark_files = all_lv0_fits.files_filtered(IMAGETYP=\"DARK\", include_path=True)\n",
    "if dark_files:\n",
    "    comb.make_mdark(dark_files, MASTERDIR, key_exptime='EXPTIME')"
   ]
  },
  {
   "cell_type": "code",
   "execution_count": null,
   "id": "a31c71e8",
   "metadata": {},
   "outputs": [],
   "source": [
    "\n",
    "fpath_log_lv0 = LOGDIR/'lv0_example.log' # log file path for Lv0\n",
    "if fpath_log_lv0.exists():\n",
    "    fpath_log_lv0.unlink() # remove existing log file\n",
    "\n",
    "# Data directory\n",
    "\n",
    "MASTERDIR = DATADIR / \"calibration_files\"\n",
    "MASTERDIR.mkdir(parents=True, exist_ok=True)\n",
    "\n",
    "subdir = \"2025_0717\"\n",
    "\n",
    "# Lv0 Data directory\n",
    "Lv0DIR = DATADIR / \"Lv0\"\n",
    "Lv0_subdir = Lv0DIR / subdir\n",
    "\n",
    "# Lv1 Data directory\n",
    "Lv1DIR = DATADIR / \"Lv1\"\n",
    "Lv1_subdir = Lv1DIR / subdir  \n",
    "Lv1_subdir.mkdir(parents=True, exist_ok=True)\n",
    "\n",
    "Lv1_wcsdir = DATADIR / \"Lv1_wcs\"\n",
    "Lv1_wcsdir.mkdir(parents=True, exist_ok=True)"
   ]
  },
  {
   "cell_type": "code",
   "execution_count": 3,
   "id": "459bfbb0",
   "metadata": {},
   "outputs": [],
   "source": [
    "# Initialize Lv0 class\n",
    "lv0 = solopy.Lv0(log_file=fpath_log_lv0)\n",
    "\n",
    "# Initialize Lv1 class\n",
    "lv1 = solopy.Lv1(log_file=fpath_log_lv1)\n",
    "\n",
    "# Initialize CombMaster class\n",
    "comb = solopy.CombMaster(log_file=fpath_log_comb)"
   ]
  },
  {
   "cell_type": "code",
   "execution_count": 4,
   "id": "3a0f93da",
   "metadata": {},
   "outputs": [],
   "source": [
    "# solopy 로거 설정 (이미 클래스 내부에 설정되어 있지만, 메인 스크립트의 로그도 함께 보려면 설정)\n",
    "logging.basicConfig(level=logging.INFO,\n",
    "                    format=\"%(asctime)s [%(levelname)s] %(message)s\",\n",
    "                    handlers=[\n",
    "                        logging.StreamHandler(), # 콘솔 출력\n",
    "                        logging.FileHandler(LOGDIR/\"solopy-example.log\") # 파일 출력\n",
    "                    ])\n",
    "logger = logging.getLogger(__name__)"
   ]
  },
  {
   "cell_type": "code",
   "execution_count": 5,
   "id": "7b2ed27b",
   "metadata": {},
   "outputs": [
    {
     "name": "stderr",
     "output_type": "stream",
     "text": [
      "2025-10-27 18:32:00,321 [INFO] Scanning ../solo-data/Lv0/2025_0717 for file types...\n",
      "2025-10-27 18:33:15,473 [INFO] Scanned 147 files. Found:\n",
      "2025-10-27 18:33:15,473 [INFO] 8 BIAS\n",
      "2025-10-27 18:33:15,474 [INFO] 81 DARK\n",
      "2025-10-27 18:33:15,474 [INFO] 58 LIGHT (Science)\n"
     ]
    }
   ],
   "source": [
    "bias_files = []\n",
    "dark_files = []\n",
    "flat_files = [] # 타겟 필터와 일치하는 플랫\n",
    "science_files = [] # 타겟 필터와 일치하는 라이트\n",
    "all_files = [] # 모든 파일\n",
    "\n",
    "logger.info(f\"Scanning {Lv0_subdir} for file types...\")\n",
    "all_files_count = 0\n",
    "\n",
    "for fpath in Lv0_subdir.glob(\"*.fits.bz2\"):\n",
    "    all_files.append(fpath)\n",
    "\n",
    "    all_files_count += 1\n",
    "    fobj = None\n",
    "    \n",
    "    try:\n",
    "        \n",
    "        # bz2 파일을 열고 'getheader'로 헤더만 빠르게 읽기\n",
    "        fobj = bz2.BZ2File(fpath, \"rb\")\n",
    "        hdr = fits.getheader(fobj) \n",
    "        \n",
    "        imagetyp = hdr.get('IMAGETYP', 'UNKNOWN').upper()\n",
    "        \n",
    "        if imagetyp == 'BIAS':\n",
    "            bias_files.append(fpath)\n",
    "        elif imagetyp == 'DARK':\n",
    "            dark_files.append(fpath)\n",
    "        elif imagetyp == 'LIGHT':\n",
    "            science_files.append(fpath)\n",
    "            \n",
    "    except Exception as e:\n",
    "        logger.warning(f\"Could not read header from {fpath.name}: {e}\")\n",
    "        logger.warning(f\"Using {fpath.name} as a fallback.\")\n",
    "        \n",
    "    finally:\n",
    "        if fobj:\n",
    "            fobj.close()\n",
    "\n",
    "logger.info(f\"Scanned {all_files_count} files. Found:\")\n",
    "logger.info(f\"{len(bias_files)} BIAS\")\n",
    "logger.info(f\"{len(dark_files)} DARK\")\n",
    "logger.info(f\"{len(science_files)} LIGHT (Science)\")"
   ]
  },
  {
   "cell_type": "code",
   "execution_count": null,
   "id": "a155521e",
   "metadata": {},
   "outputs": [
    {
     "name": "stderr",
     "output_type": "stream",
     "text": [
      "2025-10-27 15:52:38,808 [INFO] Updated LV0 header: ../solo-data/Lv0/2025_0717/dk03_002.fits.bz2\n",
      "2025-10-27 15:52:38,808 [INFO] Updated LV0 header: ../solo-data/Lv0/2025_0717/dk03_002.fits.bz2\n",
      "2025-10-27 15:52:41,210 [INFO] Updated LV0 header: ../solo-data/Lv0/2025_0717/dk03_003.fits.bz2\n",
      "2025-10-27 15:52:41,210 [INFO] Updated LV0 header: ../solo-data/Lv0/2025_0717/dk03_003.fits.bz2\n",
      "2025-10-27 15:52:43,724 [INFO] Updated LV0 header: ../solo-data/Lv0/2025_0717/CARLOVA_006_20250717091050.fits.bz2\n",
      "2025-10-27 15:52:43,724 [INFO] Updated LV0 header: ../solo-data/Lv0/2025_0717/CARLOVA_006_20250717091050.fits.bz2\n",
      "2025-10-27 15:52:46,121 [INFO] Updated LV0 header: ../solo-data/Lv0/2025_0717/dark007_001.fits.bz2\n",
      "2025-10-27 15:52:46,121 [INFO] Updated LV0 header: ../solo-data/Lv0/2025_0717/dark007_001.fits.bz2\n",
      "2025-10-27 15:52:48,667 [INFO] Updated LV0 header: ../solo-data/Lv0/2025_0717/ELENORA_010_20250717054251.fits.bz2\n",
      "2025-10-27 15:52:48,667 [INFO] Updated LV0 header: ../solo-data/Lv0/2025_0717/ELENORA_010_20250717054251.fits.bz2\n",
      "2025-10-27 15:52:51,189 [INFO] Updated LV0 header: ../solo-data/Lv0/2025_0717/ELENORA_016_20250717055202.fits.bz2\n",
      "2025-10-27 15:52:51,189 [INFO] Updated LV0 header: ../solo-data/Lv0/2025_0717/ELENORA_016_20250717055202.fits.bz2\n",
      "2025-10-27 15:52:53,733 [INFO] Updated LV0 header: ../solo-data/Lv0/2025_0717/ELENORA_018_20250717055506.fits.bz2\n",
      "2025-10-27 15:52:53,733 [INFO] Updated LV0 header: ../solo-data/Lv0/2025_0717/ELENORA_018_20250717055506.fits.bz2\n",
      "2025-10-27 15:52:56,218 [INFO] Updated LV0 header: ../solo-data/Lv0/2025_0717/dk03_008.fits.bz2\n",
      "2025-10-27 15:52:56,218 [INFO] Updated LV0 header: ../solo-data/Lv0/2025_0717/dk03_008.fits.bz2\n",
      "2025-10-27 15:52:58,757 [INFO] Updated LV0 header: ../solo-data/Lv0/2025_0717/dk03_009.fits.bz2\n",
      "2025-10-27 15:52:58,757 [INFO] Updated LV0 header: ../solo-data/Lv0/2025_0717/dk03_009.fits.bz2\n",
      "2025-10-27 15:53:01,244 [INFO] Updated LV0 header: ../solo-data/Lv0/2025_0717/ELENORA_006_20250717053642.fits.bz2\n",
      "2025-10-27 15:53:01,244 [INFO] Updated LV0 header: ../solo-data/Lv0/2025_0717/ELENORA_006_20250717053642.fits.bz2\n",
      "2025-10-27 15:53:03,580 [INFO] Updated LV0 header: ../solo-data/Lv0/2025_0717/dark004_005.fits.bz2\n",
      "2025-10-27 15:53:03,580 [INFO] Updated LV0 header: ../solo-data/Lv0/2025_0717/dark004_005.fits.bz2\n",
      "2025-10-27 15:53:05,909 [INFO] Updated LV0 header: ../solo-data/Lv0/2025_0717/dark004_004.fits.bz2\n",
      "2025-10-27 15:53:05,909 [INFO] Updated LV0 header: ../solo-data/Lv0/2025_0717/dark004_004.fits.bz2\n",
      "2025-10-27 15:53:08,504 [INFO] Updated LV0 header: ../solo-data/Lv0/2025_0717/ELENORA_030_20250717061332.fits.bz2\n",
      "2025-10-27 15:53:08,504 [INFO] Updated LV0 header: ../solo-data/Lv0/2025_0717/ELENORA_030_20250717061332.fits.bz2\n",
      "2025-10-27 15:53:11,002 [INFO] Updated LV0 header: ../solo-data/Lv0/2025_0717/ELENORA_008_20250717053947.fits.bz2\n",
      "2025-10-27 15:53:11,002 [INFO] Updated LV0 header: ../solo-data/Lv0/2025_0717/ELENORA_008_20250717053947.fits.bz2\n",
      "2025-10-27 15:53:13,338 [INFO] Updated LV0 header: ../solo-data/Lv0/2025_0717/dark006_001.fits.bz2\n",
      "2025-10-27 15:53:13,338 [INFO] Updated LV0 header: ../solo-data/Lv0/2025_0717/dark006_001.fits.bz2\n",
      "2025-10-27 15:53:15,816 [INFO] Updated LV0 header: ../solo-data/Lv0/2025_0717/dk05_003.fits.bz2\n",
      "2025-10-27 15:53:15,816 [INFO] Updated LV0 header: ../solo-data/Lv0/2025_0717/dk05_003.fits.bz2\n",
      "2025-10-27 15:53:18,305 [INFO] Updated LV0 header: ../solo-data/Lv0/2025_0717/dk05_002.fits.bz2\n",
      "2025-10-27 15:53:18,305 [INFO] Updated LV0 header: ../solo-data/Lv0/2025_0717/dk05_002.fits.bz2\n",
      "2025-10-27 15:53:20,760 [INFO] Updated LV0 header: ../solo-data/Lv0/2025_0717/dk02_003.fits.bz2\n",
      "2025-10-27 15:53:20,760 [INFO] Updated LV0 header: ../solo-data/Lv0/2025_0717/dk02_003.fits.bz2\n",
      "2025-10-27 15:53:23,229 [INFO] Updated LV0 header: ../solo-data/Lv0/2025_0717/dk02_002.fits.bz2\n",
      "2025-10-27 15:53:23,229 [INFO] Updated LV0 header: ../solo-data/Lv0/2025_0717/dk02_002.fits.bz2\n",
      "2025-10-27 15:53:25,786 [INFO] Updated LV0 header: ../solo-data/Lv0/2025_0717/CARLOVA_007_20250717091222.fits.bz2\n",
      "2025-10-27 15:53:25,786 [INFO] Updated LV0 header: ../solo-data/Lv0/2025_0717/CARLOVA_007_20250717091222.fits.bz2\n",
      "2025-10-27 15:53:28,275 [INFO] Updated LV0 header: ../solo-data/Lv0/2025_0717/dark090_006.fits.bz2\n",
      "2025-10-27 15:53:28,275 [INFO] Updated LV0 header: ../solo-data/Lv0/2025_0717/dark090_006.fits.bz2\n",
      "2025-10-27 15:53:30,682 [INFO] Updated LV0 header: ../solo-data/Lv0/2025_0717/dark090_007.fits.bz2\n",
      "2025-10-27 15:53:30,682 [INFO] Updated LV0 header: ../solo-data/Lv0/2025_0717/dark090_007.fits.bz2\n",
      "2025-10-27 15:53:33,047 [INFO] Updated LV0 header: ../solo-data/Lv0/2025_0717/dark008_002.fits.bz2\n",
      "2025-10-27 15:53:33,047 [INFO] Updated LV0 header: ../solo-data/Lv0/2025_0717/dark008_002.fits.bz2\n",
      "2025-10-27 15:53:35,431 [INFO] Updated LV0 header: ../solo-data/Lv0/2025_0717/dark008_003.fits.bz2\n",
      "2025-10-27 15:53:35,431 [INFO] Updated LV0 header: ../solo-data/Lv0/2025_0717/dark008_003.fits.bz2\n",
      "2025-10-27 15:53:37,997 [INFO] Updated LV0 header: ../solo-data/Lv0/2025_0717/CARLOVA_004_20250717090746.fits.bz2\n",
      "2025-10-27 15:53:37,997 [INFO] Updated LV0 header: ../solo-data/Lv0/2025_0717/CARLOVA_004_20250717090746.fits.bz2\n",
      "2025-10-27 15:53:40,572 [INFO] Updated LV0 header: ../solo-data/Lv0/2025_0717/CARLOVA_009_20250717091526.fits.bz2\n",
      "2025-10-27 15:53:40,572 [INFO] Updated LV0 header: ../solo-data/Lv0/2025_0717/CARLOVA_009_20250717091526.fits.bz2\n",
      "2025-10-27 15:53:43,053 [INFO] Updated LV0 header: ../solo-data/Lv0/2025_0717/dk01_006.fits.bz2\n",
      "2025-10-27 15:53:43,053 [INFO] Updated LV0 header: ../solo-data/Lv0/2025_0717/dk01_006.fits.bz2\n",
      "2025-10-27 15:53:45,523 [INFO] Updated LV0 header: ../solo-data/Lv0/2025_0717/dk01_007.fits.bz2\n",
      "2025-10-27 15:53:45,523 [INFO] Updated LV0 header: ../solo-data/Lv0/2025_0717/dk01_007.fits.bz2\n",
      "2025-10-27 15:53:48,015 [INFO] Updated LV0 header: ../solo-data/Lv0/2025_0717/ELENORA_035_20250717062113.fits.bz2\n",
      "2025-10-27 15:53:48,015 [INFO] Updated LV0 header: ../solo-data/Lv0/2025_0717/ELENORA_035_20250717062113.fits.bz2\n",
      "2025-10-27 15:53:50,525 [INFO] Updated LV0 header: ../solo-data/Lv0/2025_0717/ELENORA_032_20250717061637.fits.bz2\n",
      "2025-10-27 15:53:50,525 [INFO] Updated LV0 header: ../solo-data/Lv0/2025_0717/ELENORA_032_20250717061637.fits.bz2\n",
      "2025-10-27 15:53:52,863 [INFO] Updated LV0 header: ../solo-data/Lv0/2025_0717/dark008_008.fits.bz2\n",
      "2025-10-27 15:53:52,863 [INFO] Updated LV0 header: ../solo-data/Lv0/2025_0717/dark008_008.fits.bz2\n",
      "2025-10-27 15:53:55,222 [INFO] Updated LV0 header: ../solo-data/Lv0/2025_0717/dark008_009.fits.bz2\n",
      "2025-10-27 15:53:55,222 [INFO] Updated LV0 header: ../solo-data/Lv0/2025_0717/dark008_009.fits.bz2\n",
      "2025-10-27 15:53:57,705 [INFO] Updated LV0 header: ../solo-data/Lv0/2025_0717/dk02_009.fits.bz2\n",
      "2025-10-27 15:53:57,705 [INFO] Updated LV0 header: ../solo-data/Lv0/2025_0717/dk02_009.fits.bz2\n",
      "2025-10-27 15:54:00,169 [INFO] Updated LV0 header: ../solo-data/Lv0/2025_0717/dk02_008.fits.bz2\n",
      "2025-10-27 15:54:00,169 [INFO] Updated LV0 header: ../solo-data/Lv0/2025_0717/dk02_008.fits.bz2\n",
      "2025-10-27 15:54:02,730 [INFO] Updated LV0 header: ../solo-data/Lv0/2025_0717/CARLOVA_011_20250717091830.fits.bz2\n",
      "2025-10-27 15:54:02,730 [INFO] Updated LV0 header: ../solo-data/Lv0/2025_0717/CARLOVA_011_20250717091830.fits.bz2\n",
      "2025-10-27 15:54:05,224 [INFO] Updated LV0 header: ../solo-data/Lv0/2025_0717/dk05_009.fits.bz2\n",
      "2025-10-27 15:54:05,224 [INFO] Updated LV0 header: ../solo-data/Lv0/2025_0717/dk05_009.fits.bz2\n",
      "2025-10-27 15:54:07,714 [INFO] Updated LV0 header: ../solo-data/Lv0/2025_0717/dk05_008.fits.bz2\n",
      "2025-10-27 15:54:07,714 [INFO] Updated LV0 header: ../solo-data/Lv0/2025_0717/dk05_008.fits.bz2\n",
      "2025-10-27 15:54:10,226 [INFO] Updated LV0 header: ../solo-data/Lv0/2025_0717/ELENORA_029_20250717061200.fits.bz2\n",
      "2025-10-27 15:54:10,226 [INFO] Updated LV0 header: ../solo-data/Lv0/2025_0717/ELENORA_029_20250717061200.fits.bz2\n",
      "2025-10-27 15:54:12,801 [INFO] Updated LV0 header: ../solo-data/Lv0/2025_0717/CARLOVA_017_20250717092744.fits.bz2\n",
      "2025-10-27 15:54:12,801 [INFO] Updated LV0 header: ../solo-data/Lv0/2025_0717/CARLOVA_017_20250717092744.fits.bz2\n",
      "2025-10-27 15:54:15,377 [INFO] Updated LV0 header: ../solo-data/Lv0/2025_0717/CARLOVA_019_20250717093048.fits.bz2\n",
      "2025-10-27 15:54:15,377 [INFO] Updated LV0 header: ../solo-data/Lv0/2025_0717/CARLOVA_019_20250717093048.fits.bz2\n",
      "2025-10-27 15:54:17,952 [INFO] Updated LV0 header: ../solo-data/Lv0/2025_0717/CARLOVA_005_20250717090918.fits.bz2\n",
      "2025-10-27 15:54:17,952 [INFO] Updated LV0 header: ../solo-data/Lv0/2025_0717/CARLOVA_005_20250717090918.fits.bz2\n",
      "2025-10-27 15:54:20,437 [INFO] Updated LV0 header: ../solo-data/Lv0/2025_0717/dk02_004.fits.bz2\n",
      "2025-10-27 15:54:20,437 [INFO] Updated LV0 header: ../solo-data/Lv0/2025_0717/dk02_004.fits.bz2\n",
      "2025-10-27 15:54:22,926 [INFO] Updated LV0 header: ../solo-data/Lv0/2025_0717/dk02_005.fits.bz2\n",
      "2025-10-27 15:54:22,926 [INFO] Updated LV0 header: ../solo-data/Lv0/2025_0717/dk02_005.fits.bz2\n",
      "2025-10-27 15:54:25,386 [INFO] Updated LV0 header: ../solo-data/Lv0/2025_0717/dark090_001.fits.bz2\n",
      "2025-10-27 15:54:25,386 [INFO] Updated LV0 header: ../solo-data/Lv0/2025_0717/dark090_001.fits.bz2\n",
      "2025-10-27 15:54:27,918 [INFO] Updated LV0 header: ../solo-data/Lv0/2025_0717/ELENORA_015_20250717055030.fits.bz2\n",
      "2025-10-27 15:54:27,918 [INFO] Updated LV0 header: ../solo-data/Lv0/2025_0717/ELENORA_015_20250717055030.fits.bz2\n",
      "2025-10-27 15:54:30,263 [INFO] Updated LV0 header: ../solo-data/Lv0/2025_0717/dark006_006.fits.bz2\n",
      "2025-10-27 15:54:30,263 [INFO] Updated LV0 header: ../solo-data/Lv0/2025_0717/dark006_006.fits.bz2\n",
      "2025-10-27 15:54:32,621 [INFO] Updated LV0 header: ../solo-data/Lv0/2025_0717/dark006_007.fits.bz2\n",
      "2025-10-27 15:54:32,621 [INFO] Updated LV0 header: ../solo-data/Lv0/2025_0717/dark006_007.fits.bz2\n",
      "2025-10-27 15:54:35,164 [INFO] Updated LV0 header: ../solo-data/Lv0/2025_0717/ELENORA_019_20250717055639.fits.bz2\n",
      "2025-10-27 15:54:35,164 [INFO] Updated LV0 header: ../solo-data/Lv0/2025_0717/ELENORA_019_20250717055639.fits.bz2\n",
      "2025-10-27 15:54:37,672 [INFO] Updated LV0 header: ../solo-data/Lv0/2025_0717/dk05_004.fits.bz2\n",
      "2025-10-27 15:54:37,672 [INFO] Updated LV0 header: ../solo-data/Lv0/2025_0717/dk05_004.fits.bz2\n",
      "2025-10-27 15:54:40,166 [INFO] Updated LV0 header: ../solo-data/Lv0/2025_0717/dk05_005.fits.bz2\n",
      "2025-10-27 15:54:40,166 [INFO] Updated LV0 header: ../solo-data/Lv0/2025_0717/dk05_005.fits.bz2\n",
      "2025-10-27 15:54:42,535 [INFO] Updated LV0 header: ../solo-data/Lv0/2025_0717/dark008_005.fits.bz2\n",
      "2025-10-27 15:54:42,535 [INFO] Updated LV0 header: ../solo-data/Lv0/2025_0717/dark008_005.fits.bz2\n",
      "2025-10-27 15:54:44,900 [INFO] Updated LV0 header: ../solo-data/Lv0/2025_0717/dark008_004.fits.bz2\n",
      "2025-10-27 15:54:44,900 [INFO] Updated LV0 header: ../solo-data/Lv0/2025_0717/dark008_004.fits.bz2\n",
      "2025-10-27 15:54:47,442 [INFO] Updated LV0 header: ../solo-data/Lv0/2025_0717/ELENORA_013_20250717054727.fits.bz2\n",
      "2025-10-27 15:54:47,442 [INFO] Updated LV0 header: ../solo-data/Lv0/2025_0717/ELENORA_013_20250717054727.fits.bz2\n",
      "2025-10-27 15:54:49,940 [INFO] Updated LV0 header: ../solo-data/Lv0/2025_0717/dk01_001.fits.bz2\n",
      "2025-10-27 15:54:49,940 [INFO] Updated LV0 header: ../solo-data/Lv0/2025_0717/dk01_001.fits.bz2\n",
      "2025-10-27 15:54:52,460 [INFO] Updated LV0 header: ../solo-data/Lv0/2025_0717/ELENORA_039_20250717062722.fits.bz2\n",
      "2025-10-27 15:54:52,460 [INFO] Updated LV0 header: ../solo-data/Lv0/2025_0717/ELENORA_039_20250717062722.fits.bz2\n",
      "2025-10-27 15:54:55,005 [INFO] Updated LV0 header: ../solo-data/Lv0/2025_0717/ELENORA_004_20250717053337.fits.bz2\n",
      "2025-10-27 15:54:55,005 [INFO] Updated LV0 header: ../solo-data/Lv0/2025_0717/ELENORA_004_20250717053337.fits.bz2\n",
      "2025-10-27 15:54:57,517 [INFO] Updated LV0 header: ../solo-data/Lv0/2025_0717/bias_006.fits.bz2\n",
      "2025-10-27 15:54:57,517 [INFO] Updated LV0 header: ../solo-data/Lv0/2025_0717/bias_006.fits.bz2\n",
      "2025-10-27 15:55:00,020 [INFO] Updated LV0 header: ../solo-data/Lv0/2025_0717/bias_007.fits.bz2\n",
      "2025-10-27 15:55:00,020 [INFO] Updated LV0 header: ../solo-data/Lv0/2025_0717/bias_007.fits.bz2\n",
      "2025-10-27 15:55:02,395 [INFO] Updated LV0 header: ../solo-data/Lv0/2025_0717/dark007_007.fits.bz2\n",
      "2025-10-27 15:55:02,395 [INFO] Updated LV0 header: ../solo-data/Lv0/2025_0717/dark007_007.fits.bz2\n",
      "2025-10-27 15:55:04,782 [INFO] Updated LV0 header: ../solo-data/Lv0/2025_0717/dark007_006.fits.bz2\n",
      "2025-10-27 15:55:04,782 [INFO] Updated LV0 header: ../solo-data/Lv0/2025_0717/dark007_006.fits.bz2\n",
      "2025-10-27 15:55:07,299 [INFO] Updated LV0 header: ../solo-data/Lv0/2025_0717/dk03_005.fits.bz2\n",
      "2025-10-27 15:55:07,299 [INFO] Updated LV0 header: ../solo-data/Lv0/2025_0717/dk03_005.fits.bz2\n",
      "2025-10-27 15:55:09,804 [INFO] Updated LV0 header: ../solo-data/Lv0/2025_0717/dk03_004.fits.bz2\n",
      "2025-10-27 15:55:09,804 [INFO] Updated LV0 header: ../solo-data/Lv0/2025_0717/dk03_004.fits.bz2\n",
      "2025-10-27 15:55:12,350 [INFO] Updated LV0 header: ../solo-data/Lv0/2025_0717/ELENORA_012_20250717054555.fits.bz2\n",
      "2025-10-27 15:55:12,350 [INFO] Updated LV0 header: ../solo-data/Lv0/2025_0717/ELENORA_012_20250717054555.fits.bz2\n",
      "2025-10-27 15:55:14,718 [INFO] Updated LV0 header: ../solo-data/Lv0/2025_0717/dark004_008.fits.bz2\n",
      "2025-10-27 15:55:14,718 [INFO] Updated LV0 header: ../solo-data/Lv0/2025_0717/dark004_008.fits.bz2\n",
      "2025-10-27 15:55:17,104 [INFO] Updated LV0 header: ../solo-data/Lv0/2025_0717/dark004_009.fits.bz2\n",
      "2025-10-27 15:55:17,104 [INFO] Updated LV0 header: ../solo-data/Lv0/2025_0717/dark004_009.fits.bz2\n",
      "2025-10-27 15:55:19,655 [INFO] Updated LV0 header: ../solo-data/Lv0/2025_0717/ELENORA_009_20250717054119.fits.bz2\n",
      "2025-10-27 15:55:19,655 [INFO] Updated LV0 header: ../solo-data/Lv0/2025_0717/ELENORA_009_20250717054119.fits.bz2\n",
      "2025-10-27 15:55:22,198 [INFO] Updated LV0 header: ../solo-data/Lv0/2025_0717/ELENORA_024_20250717060420.fits.bz2\n",
      "2025-10-27 15:55:22,198 [INFO] Updated LV0 header: ../solo-data/Lv0/2025_0717/ELENORA_024_20250717060420.fits.bz2\n",
      "2025-10-27 15:55:24,787 [INFO] Updated LV0 header: ../solo-data/Lv0/2025_0717/CARLOVA_016_20250717092611.fits.bz2\n",
      "2025-10-27 15:55:24,787 [INFO] Updated LV0 header: ../solo-data/Lv0/2025_0717/CARLOVA_016_20250717092611.fits.bz2\n",
      "2025-10-27 15:55:27,398 [INFO] Updated LV0 header: ../solo-data/Lv0/2025_0717/CARLOVA_012_20250717092002.fits.bz2\n",
      "2025-10-27 15:55:27,398 [INFO] Updated LV0 header: ../solo-data/Lv0/2025_0717/CARLOVA_012_20250717092002.fits.bz2\n",
      "2025-10-27 15:55:29,956 [INFO] Updated LV0 header: ../solo-data/Lv0/2025_0717/ELENORA_038_20250717062550.fits.bz2\n",
      "2025-10-27 15:55:29,956 [INFO] Updated LV0 header: ../solo-data/Lv0/2025_0717/ELENORA_038_20250717062550.fits.bz2\n",
      "2025-10-27 15:55:32,516 [INFO] Updated LV0 header: ../solo-data/Lv0/2025_0717/ELENORA_033_20250717061809.fits.bz2\n",
      "2025-10-27 15:55:32,516 [INFO] Updated LV0 header: ../solo-data/Lv0/2025_0717/ELENORA_033_20250717061809.fits.bz2\n",
      "2025-10-27 15:55:34,974 [INFO] Updated LV0 header: ../solo-data/Lv0/2025_0717/dark004_002.fits.bz2\n",
      "2025-10-27 15:55:34,974 [INFO] Updated LV0 header: ../solo-data/Lv0/2025_0717/dark004_002.fits.bz2\n",
      "2025-10-27 15:55:37,438 [INFO] Updated LV0 header: ../solo-data/Lv0/2025_0717/dark004_003.fits.bz2\n",
      "2025-10-27 15:55:37,438 [INFO] Updated LV0 header: ../solo-data/Lv0/2025_0717/dark004_003.fits.bz2\n",
      "2025-10-27 15:55:40,093 [INFO] Updated LV0 header: ../solo-data/Lv0/2025_0717/CARLOVA_015_20250717092439.fits.bz2\n",
      "2025-10-27 15:55:40,093 [INFO] Updated LV0 header: ../solo-data/Lv0/2025_0717/CARLOVA_015_20250717092439.fits.bz2\n",
      "2025-10-27 15:55:42,685 [INFO] Updated LV0 header: ../solo-data/Lv0/2025_0717/ELENORA_034_20250717061941.fits.bz2\n",
      "2025-10-27 15:55:42,685 [INFO] Updated LV0 header: ../solo-data/Lv0/2025_0717/ELENORA_034_20250717061941.fits.bz2\n",
      "2025-10-27 15:55:45,321 [INFO] Updated LV0 header: ../solo-data/Lv0/2025_0717/ELENORA_002_20250717053033.fits.bz2\n",
      "2025-10-27 15:55:45,321 [INFO] Updated LV0 header: ../solo-data/Lv0/2025_0717/ELENORA_002_20250717053033.fits.bz2\n",
      "2025-10-27 15:55:47,967 [INFO] Updated LV0 header: ../solo-data/Lv0/2025_0717/dk01_005.fits.bz2\n",
      "2025-10-27 15:55:47,967 [INFO] Updated LV0 header: ../solo-data/Lv0/2025_0717/dk01_005.fits.bz2\n",
      "2025-10-27 15:55:50,557 [INFO] Updated LV0 header: ../solo-data/Lv0/2025_0717/dk01_004.fits.bz2\n",
      "2025-10-27 15:55:50,557 [INFO] Updated LV0 header: ../solo-data/Lv0/2025_0717/dk01_004.fits.bz2\n",
      "2025-10-27 15:55:53,244 [INFO] Updated LV0 header: ../solo-data/Lv0/2025_0717/CARLOVA_003_20250717090614.fits.bz2\n",
      "2025-10-27 15:55:53,244 [INFO] Updated LV0 header: ../solo-data/Lv0/2025_0717/CARLOVA_003_20250717090614.fits.bz2\n",
      "2025-10-27 15:55:55,832 [INFO] Updated LV0 header: ../solo-data/Lv0/2025_0717/ELENORA_021_20250717055943.fits.bz2\n",
      "2025-10-27 15:55:55,832 [INFO] Updated LV0 header: ../solo-data/Lv0/2025_0717/ELENORA_021_20250717055943.fits.bz2\n",
      "2025-10-27 15:55:58,525 [INFO] Updated LV0 header: ../solo-data/Lv0/2025_0717/CARLOVA_008_20250717091354.fits.bz2\n",
      "2025-10-27 15:55:58,525 [INFO] Updated LV0 header: ../solo-data/Lv0/2025_0717/CARLOVA_008_20250717091354.fits.bz2\n",
      "2025-10-27 15:56:01,084 [INFO] Updated LV0 header: ../solo-data/Lv0/2025_0717/bias_002.fits.bz2\n",
      "2025-10-27 15:56:01,084 [INFO] Updated LV0 header: ../solo-data/Lv0/2025_0717/bias_002.fits.bz2\n",
      "2025-10-27 15:56:03,642 [INFO] Updated LV0 header: ../solo-data/Lv0/2025_0717/bias_003.fits.bz2\n",
      "2025-10-27 15:56:03,642 [INFO] Updated LV0 header: ../solo-data/Lv0/2025_0717/bias_003.fits.bz2\n",
      "2025-10-27 15:56:06,074 [INFO] Updated LV0 header: ../solo-data/Lv0/2025_0717/dark006_008.fits.bz2\n",
      "2025-10-27 15:56:06,074 [INFO] Updated LV0 header: ../solo-data/Lv0/2025_0717/dark006_008.fits.bz2\n",
      "2025-10-27 15:56:08,521 [INFO] Updated LV0 header: ../solo-data/Lv0/2025_0717/dark006_009.fits.bz2\n",
      "2025-10-27 15:56:08,521 [INFO] Updated LV0 header: ../solo-data/Lv0/2025_0717/dark006_009.fits.bz2\n",
      "2025-10-27 15:56:11,079 [INFO] Updated LV0 header: ../solo-data/Lv0/2025_0717/dk05_001.fits.bz2\n",
      "2025-10-27 15:56:11,079 [INFO] Updated LV0 header: ../solo-data/Lv0/2025_0717/dk05_001.fits.bz2\n",
      "2025-10-27 15:56:13,662 [INFO] Updated LV0 header: ../solo-data/Lv0/2025_0717/ELENORA_026_20250717060724.fits.bz2\n",
      "2025-10-27 15:56:13,662 [INFO] Updated LV0 header: ../solo-data/Lv0/2025_0717/ELENORA_026_20250717060724.fits.bz2\n",
      "2025-10-27 15:56:16,116 [INFO] Updated LV0 header: ../solo-data/Lv0/2025_0717/dark006_002.fits.bz2\n",
      "2025-10-27 15:56:16,116 [INFO] Updated LV0 header: ../solo-data/Lv0/2025_0717/dark006_002.fits.bz2\n",
      "2025-10-27 15:56:18,598 [INFO] Updated LV0 header: ../solo-data/Lv0/2025_0717/dark006_003.fits.bz2\n",
      "2025-10-27 15:56:18,598 [INFO] Updated LV0 header: ../solo-data/Lv0/2025_0717/dark006_003.fits.bz2\n",
      "2025-10-27 15:56:21,170 [INFO] Updated LV0 header: ../solo-data/Lv0/2025_0717/dk02_001.fits.bz2\n",
      "2025-10-27 15:56:21,170 [INFO] Updated LV0 header: ../solo-data/Lv0/2025_0717/dk02_001.fits.bz2\n",
      "2025-10-27 15:56:23,678 [INFO] Updated LV0 header: ../solo-data/Lv0/2025_0717/dark090_005.fits.bz2\n",
      "2025-10-27 15:56:23,678 [INFO] Updated LV0 header: ../solo-data/Lv0/2025_0717/dark090_005.fits.bz2\n",
      "2025-10-27 15:56:26,208 [INFO] Updated LV0 header: ../solo-data/Lv0/2025_0717/dark090_004.fits.bz2\n",
      "2025-10-27 15:56:26,208 [INFO] Updated LV0 header: ../solo-data/Lv0/2025_0717/dark090_004.fits.bz2\n",
      "2025-10-27 15:56:28,775 [INFO] Updated LV0 header: ../solo-data/Lv0/2025_0717/bias_008.fits.bz2\n",
      "2025-10-27 15:56:28,775 [INFO] Updated LV0 header: ../solo-data/Lv0/2025_0717/bias_008.fits.bz2\n",
      "2025-10-27 15:56:31,389 [INFO] Updated LV0 header: ../solo-data/Lv0/2025_0717/ELENORA_028_20250717061028.fits.bz2\n",
      "2025-10-27 15:56:31,389 [INFO] Updated LV0 header: ../solo-data/Lv0/2025_0717/ELENORA_028_20250717061028.fits.bz2\n",
      "2025-10-27 15:56:33,993 [INFO] Updated LV0 header: ../solo-data/Lv0/2025_0717/bias_009.fits.bz2\n",
      "2025-10-27 15:56:33,993 [INFO] Updated LV0 header: ../solo-data/Lv0/2025_0717/bias_009.fits.bz2\n",
      "2025-10-27 15:56:36,437 [INFO] Updated LV0 header: ../solo-data/Lv0/2025_0717/dark008_001.fits.bz2\n",
      "2025-10-27 15:56:36,437 [INFO] Updated LV0 header: ../solo-data/Lv0/2025_0717/dark008_001.fits.bz2\n",
      "2025-10-27 15:56:39,038 [INFO] Updated LV0 header: ../solo-data/Lv0/2025_0717/ELENORA_036_20250717062246.fits.bz2\n",
      "2025-10-27 15:56:39,038 [INFO] Updated LV0 header: ../solo-data/Lv0/2025_0717/ELENORA_036_20250717062246.fits.bz2\n",
      "2025-10-27 15:56:41,657 [INFO] Updated LV0 header: ../solo-data/Lv0/2025_0717/ELENORA_023_20250717060247.fits.bz2\n",
      "2025-10-27 15:56:41,657 [INFO] Updated LV0 header: ../solo-data/Lv0/2025_0717/ELENORA_023_20250717060247.fits.bz2\n",
      "2025-10-27 15:56:44,099 [INFO] Updated LV0 header: ../solo-data/Lv0/2025_0717/dark007_009.fits.bz2\n",
      "2025-10-27 15:56:44,099 [INFO] Updated LV0 header: ../solo-data/Lv0/2025_0717/dark007_009.fits.bz2\n",
      "2025-10-27 15:56:46,577 [INFO] Updated LV0 header: ../solo-data/Lv0/2025_0717/dark007_008.fits.bz2\n",
      "2025-10-27 15:56:46,577 [INFO] Updated LV0 header: ../solo-data/Lv0/2025_0717/dark007_008.fits.bz2\n",
      "2025-10-27 15:56:49,156 [INFO] Updated LV0 header: ../solo-data/Lv0/2025_0717/ELENORA_022_20250717060115.fits.bz2\n",
      "2025-10-27 15:56:49,156 [INFO] Updated LV0 header: ../solo-data/Lv0/2025_0717/ELENORA_022_20250717060115.fits.bz2\n",
      "2025-10-27 15:56:51,739 [INFO] Updated LV0 header: ../solo-data/Lv0/2025_0717/ELENORA_027_20250717060856.fits.bz2\n",
      "2025-10-27 15:56:51,739 [INFO] Updated LV0 header: ../solo-data/Lv0/2025_0717/ELENORA_027_20250717060856.fits.bz2\n",
      "2025-10-27 15:56:54,149 [INFO] Updated LV0 header: ../solo-data/Lv0/2025_0717/dark004_006.fits.bz2\n",
      "2025-10-27 15:56:54,149 [INFO] Updated LV0 header: ../solo-data/Lv0/2025_0717/dark004_006.fits.bz2\n",
      "2025-10-27 15:56:56,536 [INFO] Updated LV0 header: ../solo-data/Lv0/2025_0717/dark004_007.fits.bz2\n",
      "2025-10-27 15:56:56,536 [INFO] Updated LV0 header: ../solo-data/Lv0/2025_0717/dark004_007.fits.bz2\n",
      "2025-10-27 15:56:59,078 [INFO] Updated LV0 header: ../solo-data/Lv0/2025_0717/ELENORA_025_20250717060552.fits.bz2\n",
      "2025-10-27 15:56:59,078 [INFO] Updated LV0 header: ../solo-data/Lv0/2025_0717/ELENORA_025_20250717060552.fits.bz2\n",
      "2025-10-27 15:57:01,703 [INFO] Updated LV0 header: ../solo-data/Lv0/2025_0717/CARLOVA_001_20250717090310.fits.bz2\n",
      "2025-10-27 15:57:01,703 [INFO] Updated LV0 header: ../solo-data/Lv0/2025_0717/CARLOVA_001_20250717090310.fits.bz2\n",
      "2025-10-27 15:57:04,233 [INFO] Updated LV0 header: ../solo-data/Lv0/2025_0717/dk03_001.fits.bz2\n",
      "2025-10-27 15:57:04,233 [INFO] Updated LV0 header: ../solo-data/Lv0/2025_0717/dk03_001.fits.bz2\n",
      "2025-10-27 15:57:06,619 [INFO] Updated LV0 header: ../solo-data/Lv0/2025_0717/dark007_003.fits.bz2\n",
      "2025-10-27 15:57:06,619 [INFO] Updated LV0 header: ../solo-data/Lv0/2025_0717/dark007_003.fits.bz2\n",
      "2025-10-27 15:57:08,992 [INFO] Updated LV0 header: ../solo-data/Lv0/2025_0717/dark007_002.fits.bz2\n",
      "2025-10-27 15:57:08,992 [INFO] Updated LV0 header: ../solo-data/Lv0/2025_0717/dark007_002.fits.bz2\n",
      "2025-10-27 15:57:11,628 [INFO] Updated LV0 header: ../solo-data/Lv0/2025_0717/CARLOVA_014_20250717092307.fits.bz2\n",
      "2025-10-27 15:57:11,628 [INFO] Updated LV0 header: ../solo-data/Lv0/2025_0717/CARLOVA_014_20250717092307.fits.bz2\n",
      "2025-10-27 15:57:14,206 [INFO] Updated LV0 header: ../solo-data/Lv0/2025_0717/ELENORA_001_20250717052901.fits.bz2\n",
      "2025-10-27 15:57:14,206 [INFO] Updated LV0 header: ../solo-data/Lv0/2025_0717/ELENORA_001_20250717052901.fits.bz2\n",
      "2025-10-27 15:57:16,764 [INFO] Updated LV0 header: ../solo-data/Lv0/2025_0717/ELENORA_017_20250717055335.fits.bz2\n",
      "2025-10-27 15:57:16,764 [INFO] Updated LV0 header: ../solo-data/Lv0/2025_0717/ELENORA_017_20250717055335.fits.bz2\n",
      "2025-10-27 15:57:19,318 [INFO] Updated LV0 header: ../solo-data/Lv0/2025_0717/ELENORA_011_20250717054422.fits.bz2\n",
      "2025-10-27 15:57:19,318 [INFO] Updated LV0 header: ../solo-data/Lv0/2025_0717/ELENORA_011_20250717054422.fits.bz2\n",
      "2025-10-27 15:57:19,320 [ERROR] File not found: ../solo-data/Lv0/2025_0717/dk05_002.fits\n",
      "2025-10-27 15:57:19,320 [ERROR] File not found: ../solo-data/Lv0/2025_0717/dk05_002.fits\n",
      "2025-10-27 15:57:21,872 [INFO] Updated LV0 header: ../solo-data/Lv0/2025_0717/ELENORA_020_20250717055811.fits.bz2\n",
      "2025-10-27 15:57:21,872 [INFO] Updated LV0 header: ../solo-data/Lv0/2025_0717/ELENORA_020_20250717055811.fits.bz2\n",
      "2025-10-27 15:57:24,299 [INFO] Updated LV0 header: ../solo-data/Lv0/2025_0717/dark004_001.fits.bz2\n",
      "2025-10-27 15:57:24,299 [INFO] Updated LV0 header: ../solo-data/Lv0/2025_0717/dark004_001.fits.bz2\n",
      "2025-10-27 15:57:26,687 [INFO] Updated LV0 header: ../solo-data/Lv0/2025_0717/dark007_004.fits.bz2\n",
      "2025-10-27 15:57:26,687 [INFO] Updated LV0 header: ../solo-data/Lv0/2025_0717/dark007_004.fits.bz2\n",
      "2025-10-27 15:57:29,057 [INFO] Updated LV0 header: ../solo-data/Lv0/2025_0717/dark007_005.fits.bz2\n",
      "2025-10-27 15:57:29,057 [INFO] Updated LV0 header: ../solo-data/Lv0/2025_0717/dark007_005.fits.bz2\n",
      "2025-10-27 15:57:31,620 [INFO] Updated LV0 header: ../solo-data/Lv0/2025_0717/ELENORA_005_20250717053510.fits.bz2\n",
      "2025-10-27 15:57:31,620 [INFO] Updated LV0 header: ../solo-data/Lv0/2025_0717/ELENORA_005_20250717053510.fits.bz2\n",
      "2025-10-27 15:57:34,147 [INFO] Updated LV0 header: ../solo-data/Lv0/2025_0717/dk03_006.fits.bz2\n",
      "2025-10-27 15:57:34,147 [INFO] Updated LV0 header: ../solo-data/Lv0/2025_0717/dk03_006.fits.bz2\n",
      "2025-10-27 15:57:36,672 [INFO] Updated LV0 header: ../solo-data/Lv0/2025_0717/dk03_007.fits.bz2\n",
      "2025-10-27 15:57:36,672 [INFO] Updated LV0 header: ../solo-data/Lv0/2025_0717/dk03_007.fits.bz2\n",
      "2025-10-27 15:57:39,227 [INFO] Updated LV0 header: ../solo-data/Lv0/2025_0717/ELENORA_031_20250717061504.fits.bz2\n",
      "2025-10-27 15:57:39,227 [INFO] Updated LV0 header: ../solo-data/Lv0/2025_0717/ELENORA_031_20250717061504.fits.bz2\n",
      "2025-10-27 15:57:41,843 [INFO] Updated LV0 header: ../solo-data/Lv0/2025_0717/CARLOVA_013_20250717092134.fits.bz2\n",
      "2025-10-27 15:57:41,843 [INFO] Updated LV0 header: ../solo-data/Lv0/2025_0717/CARLOVA_013_20250717092134.fits.bz2\n",
      "2025-10-27 15:57:44,411 [INFO] Updated LV0 header: ../solo-data/Lv0/2025_0717/ELENORA_007_20250717053814.fits.bz2\n",
      "2025-10-27 15:57:44,411 [INFO] Updated LV0 header: ../solo-data/Lv0/2025_0717/ELENORA_007_20250717053814.fits.bz2\n",
      "2025-10-27 15:57:46,973 [INFO] Updated LV0 header: ../solo-data/Lv0/2025_0717/ELENORA_037_20250717062418.fits.bz2\n",
      "2025-10-27 15:57:46,973 [INFO] Updated LV0 header: ../solo-data/Lv0/2025_0717/ELENORA_037_20250717062418.fits.bz2\n",
      "2025-10-27 15:57:49,527 [INFO] Updated LV0 header: ../solo-data/Lv0/2025_0717/ELENORA_003_20250717053205.fits.bz2\n",
      "2025-10-27 15:57:49,527 [INFO] Updated LV0 header: ../solo-data/Lv0/2025_0717/ELENORA_003_20250717053205.fits.bz2\n",
      "2025-10-27 15:57:52,099 [INFO] Updated LV0 header: ../solo-data/Lv0/2025_0717/ELENORA_014_20250717054859.fits.bz2\n",
      "2025-10-27 15:57:52,099 [INFO] Updated LV0 header: ../solo-data/Lv0/2025_0717/ELENORA_014_20250717054859.fits.bz2\n",
      "2025-10-27 15:57:54,718 [INFO] Updated LV0 header: ../solo-data/Lv0/2025_0717/CARLOVA_018_20250717092916.fits.bz2\n",
      "2025-10-27 15:57:54,718 [INFO] Updated LV0 header: ../solo-data/Lv0/2025_0717/CARLOVA_018_20250717092916.fits.bz2\n",
      "2025-10-27 15:57:57,264 [INFO] Updated LV0 header: ../solo-data/Lv0/2025_0717/dk01_002.fits.bz2\n",
      "2025-10-27 15:57:57,264 [INFO] Updated LV0 header: ../solo-data/Lv0/2025_0717/dk01_002.fits.bz2\n",
      "2025-10-27 15:57:59,792 [INFO] Updated LV0 header: ../solo-data/Lv0/2025_0717/dk01_003.fits.bz2\n",
      "2025-10-27 15:57:59,792 [INFO] Updated LV0 header: ../solo-data/Lv0/2025_0717/dk01_003.fits.bz2\n",
      "2025-10-27 15:58:02,310 [INFO] Updated LV0 header: ../solo-data/Lv0/2025_0717/bias_005.fits.bz2\n",
      "2025-10-27 15:58:02,310 [INFO] Updated LV0 header: ../solo-data/Lv0/2025_0717/bias_005.fits.bz2\n",
      "2025-10-27 15:58:04,867 [INFO] Updated LV0 header: ../solo-data/Lv0/2025_0717/bias_004.fits.bz2\n",
      "2025-10-27 15:58:04,867 [INFO] Updated LV0 header: ../solo-data/Lv0/2025_0717/bias_004.fits.bz2\n",
      "2025-10-27 15:58:07,346 [INFO] Updated LV0 header: ../solo-data/Lv0/2025_0717/dark090_008.fits.bz2\n",
      "2025-10-27 15:58:07,346 [INFO] Updated LV0 header: ../solo-data/Lv0/2025_0717/dark090_008.fits.bz2\n",
      "2025-10-27 15:58:09,830 [INFO] Updated LV0 header: ../solo-data/Lv0/2025_0717/dark090_009.fits.bz2\n",
      "2025-10-27 15:58:09,830 [INFO] Updated LV0 header: ../solo-data/Lv0/2025_0717/dark090_009.fits.bz2\n",
      "2025-10-27 15:58:12,343 [INFO] Updated LV0 header: ../solo-data/Lv0/2025_0717/dk01_008.fits.bz2\n",
      "2025-10-27 15:58:12,343 [INFO] Updated LV0 header: ../solo-data/Lv0/2025_0717/dk01_008.fits.bz2\n",
      "2025-10-27 15:58:14,878 [INFO] Updated LV0 header: ../solo-data/Lv0/2025_0717/dk01_009.fits.bz2\n",
      "2025-10-27 15:58:14,878 [INFO] Updated LV0 header: ../solo-data/Lv0/2025_0717/dk01_009.fits.bz2\n",
      "2025-10-27 15:58:17,515 [INFO] Updated LV0 header: ../solo-data/Lv0/2025_0717/CARLOVA_010_20250717091658.fits.bz2\n",
      "2025-10-27 15:58:17,515 [INFO] Updated LV0 header: ../solo-data/Lv0/2025_0717/CARLOVA_010_20250717091658.fits.bz2\n",
      "2025-10-27 15:58:20,123 [INFO] Updated LV0 header: ../solo-data/Lv0/2025_0717/CARLOVA_002_20250717090442.fits.bz2\n",
      "2025-10-27 15:58:20,123 [INFO] Updated LV0 header: ../solo-data/Lv0/2025_0717/CARLOVA_002_20250717090442.fits.bz2\n",
      "2025-10-27 15:58:22,651 [INFO] Updated LV0 header: ../solo-data/Lv0/2025_0717/dk02_007.fits.bz2\n",
      "2025-10-27 15:58:22,651 [INFO] Updated LV0 header: ../solo-data/Lv0/2025_0717/dk02_007.fits.bz2\n",
      "2025-10-27 15:58:25,181 [INFO] Updated LV0 header: ../solo-data/Lv0/2025_0717/dk02_006.fits.bz2\n",
      "2025-10-27 15:58:25,181 [INFO] Updated LV0 header: ../solo-data/Lv0/2025_0717/dk02_006.fits.bz2\n",
      "2025-10-27 15:58:27,667 [INFO] Updated LV0 header: ../solo-data/Lv0/2025_0717/dark090_002.fits.bz2\n",
      "2025-10-27 15:58:27,667 [INFO] Updated LV0 header: ../solo-data/Lv0/2025_0717/dark090_002.fits.bz2\n",
      "2025-10-27 15:58:30,140 [INFO] Updated LV0 header: ../solo-data/Lv0/2025_0717/dark090_003.fits.bz2\n",
      "2025-10-27 15:58:30,140 [INFO] Updated LV0 header: ../solo-data/Lv0/2025_0717/dark090_003.fits.bz2\n",
      "2025-10-27 15:58:32,687 [INFO] Updated LV0 header: ../solo-data/Lv0/2025_0717/dk05_007.fits.bz2\n",
      "2025-10-27 15:58:32,687 [INFO] Updated LV0 header: ../solo-data/Lv0/2025_0717/dk05_007.fits.bz2\n",
      "2025-10-27 15:58:35,234 [INFO] Updated LV0 header: ../solo-data/Lv0/2025_0717/dk05_006.fits.bz2\n",
      "2025-10-27 15:58:35,234 [INFO] Updated LV0 header: ../solo-data/Lv0/2025_0717/dk05_006.fits.bz2\n",
      "2025-10-27 15:58:37,646 [INFO] Updated LV0 header: ../solo-data/Lv0/2025_0717/dark006_005.fits.bz2\n",
      "2025-10-27 15:58:37,646 [INFO] Updated LV0 header: ../solo-data/Lv0/2025_0717/dark006_005.fits.bz2\n",
      "2025-10-27 15:58:40,032 [INFO] Updated LV0 header: ../solo-data/Lv0/2025_0717/dark006_004.fits.bz2\n",
      "2025-10-27 15:58:40,032 [INFO] Updated LV0 header: ../solo-data/Lv0/2025_0717/dark006_004.fits.bz2\n",
      "2025-10-27 15:58:42,424 [INFO] Updated LV0 header: ../solo-data/Lv0/2025_0717/dark008_006.fits.bz2\n",
      "2025-10-27 15:58:42,424 [INFO] Updated LV0 header: ../solo-data/Lv0/2025_0717/dark008_006.fits.bz2\n",
      "2025-10-27 15:58:44,812 [INFO] Updated LV0 header: ../solo-data/Lv0/2025_0717/dark008_007.fits.bz2\n",
      "2025-10-27 15:58:44,812 [INFO] Updated LV0 header: ../solo-data/Lv0/2025_0717/dark008_007.fits.bz2\n"
     ]
    }
   ],
   "source": [
    "# Update header (LV0)\n",
    "if all_files:\n",
    "    logger.info(\"--- Updating Lv0 headers ---\")\n",
    "    for f in all_files:\n",
    "        lv0.update_header(f)"
   ]
  },
  {
   "cell_type": "code",
   "execution_count": null,
   "id": "ab41238b",
   "metadata": {},
   "outputs": [],
   "source": [
    "# Master bias creation\n",
    "logger.info(\"--- Starting Master Bias ---\")\n",
    "if bias_files:\n",
    "    comb.make_mbias(bias_files, MASTERDIR)\n",
    "else:\n",
    "    logger.warning(\"No BIAS files found to combine.\")"
   ]
  },
  {
   "cell_type": "code",
   "execution_count": 6,
   "id": "ccb8bf35",
   "metadata": {},
   "outputs": [
    {
     "name": "stderr",
     "output_type": "stream",
     "text": [
      "2025-10-27 18:33:23,264 [INFO] --- Starting Master Dark ---\n",
      "2025-10-27 18:33:23,264 [INFO] Starting master dark creation...\n",
      "2025-10-27 18:33:23,264 [INFO] Starting master dark creation...\n",
      "2025-10-27 18:33:23,284 [INFO] Loading 81 frames...\n",
      "2025-10-27 18:33:23,284 [INFO] Loading 81 frames...\n",
      "2025-10-27 18:35:35,025 [INFO] Using master bias: kl4040.bias.comb.20250717.fits\n",
      "2025-10-27 18:35:35,025 [INFO] Using master bias: kl4040.bias.comb.20250717.fits\n",
      "2025-10-27 18:35:38,621 [INFO] Combining 9 darks for exptime 3.0s...\n",
      "2025-10-27 18:35:38,621 [INFO] Combining 9 darks for exptime 3.0s...\n",
      "2025-10-27 18:35:38,737 [INFO] splitting each image into 11 chunks to limit memory usage to 500000000.0 bytes.\n"
     ]
    },
    {
     "name": "stdout",
     "output_type": "stream",
     "text": [
      "INFO: splitting each image into 11 chunks to limit memory usage to 500000000.0 bytes. [ccdproc.combiner]\n"
     ]
    },
    {
     "name": "stderr",
     "output_type": "stream",
     "text": [
      "2025-10-27 18:35:51,007 [INFO] Master dark saved to kl4040.dark.3s.comb.20250717.fits\n",
      "2025-10-27 18:35:51,007 [INFO] Master dark saved to kl4040.dark.3s.comb.20250717.fits\n",
      "2025-10-27 18:35:51,008 [INFO] Combining 9 darks for exptime 7.0s...\n",
      "2025-10-27 18:35:51,008 [INFO] Combining 9 darks for exptime 7.0s...\n",
      "2025-10-27 18:35:51,090 [INFO] splitting each image into 11 chunks to limit memory usage to 500000000.0 bytes.\n"
     ]
    },
    {
     "name": "stdout",
     "output_type": "stream",
     "text": [
      "INFO: splitting each image into 11 chunks to limit memory usage to 500000000.0 bytes. [ccdproc.combiner]\n"
     ]
    },
    {
     "name": "stderr",
     "output_type": "stream",
     "text": [
      "2025-10-27 18:36:03,408 [INFO] Master dark saved to kl4040.dark.7s.comb.20250717.fits\n",
      "2025-10-27 18:36:03,408 [INFO] Master dark saved to kl4040.dark.7s.comb.20250717.fits\n",
      "2025-10-27 18:36:03,410 [INFO] Combining 9 darks for exptime 4.0s...\n",
      "2025-10-27 18:36:03,410 [INFO] Combining 9 darks for exptime 4.0s...\n",
      "2025-10-27 18:36:03,469 [INFO] splitting each image into 11 chunks to limit memory usage to 500000000.0 bytes.\n"
     ]
    },
    {
     "name": "stdout",
     "output_type": "stream",
     "text": [
      "INFO: splitting each image into 11 chunks to limit memory usage to 500000000.0 bytes. [ccdproc.combiner]\n"
     ]
    },
    {
     "name": "stderr",
     "output_type": "stream",
     "text": [
      "2025-10-27 18:36:15,842 [INFO] Master dark saved to kl4040.dark.4s.comb.20250717.fits\n",
      "2025-10-27 18:36:15,842 [INFO] Master dark saved to kl4040.dark.4s.comb.20250717.fits\n",
      "2025-10-27 18:36:15,842 [INFO] Combining 9 darks for exptime 6.0s...\n",
      "2025-10-27 18:36:15,842 [INFO] Combining 9 darks for exptime 6.0s...\n",
      "2025-10-27 18:36:15,891 [INFO] splitting each image into 11 chunks to limit memory usage to 500000000.0 bytes.\n"
     ]
    },
    {
     "name": "stdout",
     "output_type": "stream",
     "text": [
      "INFO: splitting each image into 11 chunks to limit memory usage to 500000000.0 bytes. [ccdproc.combiner]\n"
     ]
    },
    {
     "name": "stderr",
     "output_type": "stream",
     "text": [
      "2025-10-27 18:36:28,548 [INFO] Master dark saved to kl4040.dark.6s.comb.20250717.fits\n",
      "2025-10-27 18:36:28,548 [INFO] Master dark saved to kl4040.dark.6s.comb.20250717.fits\n",
      "2025-10-27 18:36:28,549 [INFO] Combining 9 darks for exptime 5.0s...\n",
      "2025-10-27 18:36:28,549 [INFO] Combining 9 darks for exptime 5.0s...\n",
      "2025-10-27 18:36:28,614 [INFO] splitting each image into 11 chunks to limit memory usage to 500000000.0 bytes.\n"
     ]
    },
    {
     "name": "stdout",
     "output_type": "stream",
     "text": [
      "INFO: splitting each image into 11 chunks to limit memory usage to 500000000.0 bytes. [ccdproc.combiner]\n"
     ]
    },
    {
     "name": "stderr",
     "output_type": "stream",
     "text": [
      "2025-10-27 18:36:40,959 [INFO] Master dark saved to kl4040.dark.5s.comb.20250717.fits\n",
      "2025-10-27 18:36:40,959 [INFO] Master dark saved to kl4040.dark.5s.comb.20250717.fits\n",
      "2025-10-27 18:36:40,960 [INFO] Combining 9 darks for exptime 2.0s...\n",
      "2025-10-27 18:36:40,960 [INFO] Combining 9 darks for exptime 2.0s...\n",
      "2025-10-27 18:36:41,016 [INFO] splitting each image into 11 chunks to limit memory usage to 500000000.0 bytes.\n"
     ]
    },
    {
     "name": "stdout",
     "output_type": "stream",
     "text": [
      "INFO: splitting each image into 11 chunks to limit memory usage to 500000000.0 bytes. [ccdproc.combiner]\n"
     ]
    },
    {
     "name": "stderr",
     "output_type": "stream",
     "text": [
      "2025-10-27 18:36:53,321 [INFO] Master dark saved to kl4040.dark.2s.comb.20250717.fits\n",
      "2025-10-27 18:36:53,321 [INFO] Master dark saved to kl4040.dark.2s.comb.20250717.fits\n",
      "2025-10-27 18:36:53,322 [INFO] Combining 9 darks for exptime 90.0s...\n",
      "2025-10-27 18:36:53,322 [INFO] Combining 9 darks for exptime 90.0s...\n",
      "2025-10-27 18:36:53,372 [INFO] splitting each image into 11 chunks to limit memory usage to 500000000.0 bytes.\n"
     ]
    },
    {
     "name": "stdout",
     "output_type": "stream",
     "text": [
      "INFO: splitting each image into 11 chunks to limit memory usage to 500000000.0 bytes. [ccdproc.combiner]\n"
     ]
    },
    {
     "name": "stderr",
     "output_type": "stream",
     "text": [
      "2025-10-27 18:37:05,277 [INFO] Master dark saved to kl4040.dark.90s.comb.20250717.fits\n",
      "2025-10-27 18:37:05,277 [INFO] Master dark saved to kl4040.dark.90s.comb.20250717.fits\n",
      "2025-10-27 18:37:05,278 [INFO] Combining 9 darks for exptime 8.0s...\n",
      "2025-10-27 18:37:05,278 [INFO] Combining 9 darks for exptime 8.0s...\n",
      "2025-10-27 18:37:05,330 [INFO] splitting each image into 11 chunks to limit memory usage to 500000000.0 bytes.\n"
     ]
    },
    {
     "name": "stdout",
     "output_type": "stream",
     "text": [
      "INFO: splitting each image into 11 chunks to limit memory usage to 500000000.0 bytes. [ccdproc.combiner]\n"
     ]
    },
    {
     "name": "stderr",
     "output_type": "stream",
     "text": [
      "2025-10-27 18:37:18,139 [INFO] Master dark saved to kl4040.dark.8s.comb.20250717.fits\n",
      "2025-10-27 18:37:18,139 [INFO] Master dark saved to kl4040.dark.8s.comb.20250717.fits\n",
      "2025-10-27 18:37:18,140 [INFO] Combining 9 darks for exptime 1.0s...\n",
      "2025-10-27 18:37:18,140 [INFO] Combining 9 darks for exptime 1.0s...\n",
      "2025-10-27 18:37:18,198 [INFO] splitting each image into 11 chunks to limit memory usage to 500000000.0 bytes.\n"
     ]
    },
    {
     "name": "stdout",
     "output_type": "stream",
     "text": [
      "INFO: splitting each image into 11 chunks to limit memory usage to 500000000.0 bytes. [ccdproc.combiner]\n"
     ]
    },
    {
     "name": "stderr",
     "output_type": "stream",
     "text": [
      "2025-10-27 18:37:30,734 [INFO] Master dark saved to kl4040.dark.1s.comb.20250717.fits\n",
      "2025-10-27 18:37:30,734 [INFO] Master dark saved to kl4040.dark.1s.comb.20250717.fits\n"
     ]
    }
   ],
   "source": [
    "# Master dark creation\n",
    "logger.info(\"--- Starting Master Dark ---\")\n",
    "if dark_files:\n",
    "    comb.make_mdark(dark_files, MASTERDIR, key_exptime='EXPTIME')\n",
    "else:\n",
    "    logger.warning(\"No DARK files found to combine.\")"
   ]
  },
  {
   "cell_type": "code",
   "execution_count": 5,
   "id": "9a838598",
   "metadata": {},
   "outputs": [
    {
     "name": "stderr",
     "output_type": "stream",
     "text": [
      "2025-10-27 17:41:50,831 [INFO] Starting master bias combination...\n",
      "2025-10-27 17:41:50,831 [INFO] Starting master bias combination...\n",
      "2025-10-27 17:41:50,832 [INFO] Loading 8 frames...\n",
      "2025-10-27 17:41:50,832 [INFO] Loading 8 frames...\n",
      "2025-10-27 17:41:58,638 [INFO] Combining 8 bias CCDData objects...\n",
      "2025-10-27 17:41:58,638 [INFO] Combining 8 bias CCDData objects...\n",
      "2025-10-27 17:41:58,667 [INFO] splitting each image into 10 chunks to limit memory usage to 500000000.0 bytes.\n"
     ]
    },
    {
     "name": "stdout",
     "output_type": "stream",
     "text": [
      "INFO: splitting each image into 10 chunks to limit memory usage to 500000000.0 bytes. [ccdproc.combiner]\n"
     ]
    },
    {
     "name": "stderr",
     "output_type": "stream",
     "text": [
      "2025-10-27 17:42:08,851 [INFO] Master bias saved to kl4040.bias.comb.20250717.fits\n",
      "2025-10-27 17:42:08,851 [INFO] Master bias saved to kl4040.bias.comb.20250717.fits\n"
     ]
    }
   ],
   "source": [
    "bias_files = list(Lv0_subdir.glob(\"*bias*.fits.bz2\"))\n",
    "if bias_files:\n",
    "    comb.make_mbias(bias_files, MASTERDIR)\n",
    "else:\n",
    "    logger.warning(\"No bias files found to combine.\")"
   ]
  },
  {
   "cell_type": "code",
   "execution_count": null,
   "id": "0f5ed166",
   "metadata": {},
   "outputs": [],
   "source": [
    "# 2-2. 마스터 다크 생성\n",
    "# Lv0 디렉터리에서 IMAGETYP='DARK'인 파일 찾기 (파일명으로 검색)\n",
    "logger.info(\"--- Starting Master Dark ---\")\n",
    "dark_files = list(Lv0_subdir.glob(\"*dark*.fits.bz2\")) + \\\n",
    "                list(Lv0_subdir.glob(\"*dk*.fits.bz2\"))\n",
    "if dark_files:\n",
    "    comb.make_mdark(dark_files, MASTERDIR, key_exptime='EXPTIME')\n",
    "else:\n",
    "    logger.warning(\"No dark files found to combine.\")"
   ]
  },
  {
   "cell_type": "code",
   "execution_count": null,
   "id": "1ea3d64c",
   "metadata": {},
   "outputs": [],
   "source": []
  },
  {
   "cell_type": "code",
   "execution_count": null,
   "id": "bd71f345",
   "metadata": {},
   "outputs": [],
   "source": [
    "import solopy\n",
    "from pathlib import Path\n",
    "\n",
    "\n",
    "\n",
    "\n",
    "# --- 1. 경로 설정 ---\n",
    "# (경로는 예시이므로 실제 환경에 맞게 수정하세요)\n",
    "BASE_DIR = Path(\".\") # 현재 스크립트가 실행되는 위치\n",
    "DATADIR = Path(\"../solo-data\") # 데이터 상위 폴더\n",
    "\n",
    "# Lv0 헤더가 업데이트된 파일이 있는 폴더\n",
    "Lv0_subdir = DATADIR / \"Lv0\" / \"2025_0717\"\n",
    "\n",
    "\n",
    "# 사용할 필터 (예: 'R' 필터)\n",
    "TARGET_FILTER = 'R' # 이 필터 이름은 파일명 검색 및 mflat 생성에 사용됩니다.\n",
    "\n",
    "logger.info(f\"Using Lv0 data from: {Lv0_subdir}\")\n",
    "logger.info(f\"Master frames will be saved to: {MASTERDIR}\")\n",
    "logger.info(f\"Lv1 WCS output to: {Lv1_wcsdir}\")\n",
    "logger.info(f\"Lv1 Processed output to: {LV1_PROC_DIR}\")\n",
    "\n",
    "# --- 2. CombMaster: 마스터 프레임 생성 ---\n",
    "# CombMaster 초기화 (solopy 내부 로거 사용)\n",
    "comb = solopy.CombMaster(log_file=\"combmaster.log\")\n",
    "\n",
    "\n",
    "\n",
    "\n",
    "# --- 3. Lv1: 과학 프레임 처리 ---\n",
    "# Lv1 초기화 (solopy 내부 로거 사용)\n",
    "lv1 = solopy.Lv1(log_file=\"lv1_processing.log\")\n",
    "\n",
    "# 3-1. 처리할 과학(Light) 프레임 목록 가져오기\n",
    "# (파일명에 bias, dark, dk, flat이 포함되지 않은 모든 파일)\n",
    "logger.info(\"--- Starting Lv1 Processing ---\")\n",
    "science_files = [f for f in Lv0_subdir.glob(\"*.fits.bz2\")\n",
    "                 if 'bias' not in f.name.lower() and \\\n",
    "                    'dark' not in f.name.lower() and \\\n",
    "                    'dk' not in f.name.lower() and \\\n",
    "                    'flat' not in f.name.lower()]\n",
    "\n",
    "if not science_files:\n",
    "    logger.warning(\"No science files found in Lv0 directory.\")\n",
    "else:\n",
    "    logger.info(f\"Found {len(science_files)} science frames for Lv1 processing.\")\n",
    "\n",
    "    # 3-2. WCS 업데이트\n",
    "    # (Lv0 파일 -> Lv1_WCS_DIR)\n",
    "    wcs_updated_files = []\n",
    "    for fpath in science_files:\n",
    "        try:\n",
    "            logger.info(f\"Processing WCS for: {fpath.name}\")\n",
    "            wcs_path = lv1.update_wcs(fpath, Lv1_wcsdir)\n",
    "            if wcs_path:\n",
    "                wcs_updated_files.append(wcs_path)\n",
    "        except Exception as e:\n",
    "            logger.error(f\"Failed WCS update for {fpath.name}: {e}\")\n",
    "\n",
    "    # 3-3. 전처리 (Bias, Dark, Flat 보정)\n",
    "    # (Lv1_WCS_DIR 파일 -> Lv1_PROC_DIR)\n",
    "    if not wcs_updated_files:\n",
    "         logger.warning(\"No WCS files to process (WCS step failed or produced no files).\")\n",
    "    else:\n",
    "        logger.info(f\"Starting preprocessing for {len(wcs_updated_files)} WCS-updated files...\")\n",
    "        for fpath_wcs in wcs_updated_files:\n",
    "            try:\n",
    "                logger.info(f\"Preprocessing: {fpath_wcs.name}\")\n",
    "                lv1.preprocessing(fpath_wcs, LV1_PROC_DIR, MASTERDIR)\n",
    "            except Exception as e:\n",
    "                logger.error(f\"Failed preprocessing for {fpath_wcs.name}: {e}\")\n",
    "\n",
    "logger.info(\"--- Pipeline Finished ---\")"
   ]
  }
 ],
 "metadata": {
  "kernelspec": {
   "display_name": "solopy",
   "language": "python",
   "name": "python3"
  },
  "language_info": {
   "codemirror_mode": {
    "name": "ipython",
    "version": 3
   },
   "file_extension": ".py",
   "mimetype": "text/x-python",
   "name": "python",
   "nbconvert_exporter": "python",
   "pygments_lexer": "ipython3",
   "version": "3.11.11"
  }
 },
 "nbformat": 4,
 "nbformat_minor": 5
}
